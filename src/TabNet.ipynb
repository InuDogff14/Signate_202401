{
 "cells": [
  {
   "cell_type": "code",
   "execution_count": 12,
   "metadata": {},
   "outputs": [
    {
     "name": "stderr",
     "output_type": "stream",
     "text": [
      "C:\\Users\\mikep\\AppData\\Local\\Packages\\PythonSoftwareFoundation.Python.3.11_qbz5n2kfra8p0\\LocalCache\\local-packages\\Python311\\site-packages\\pytorch_tabnet\\abstract_model.py:82: UserWarning: Device used : cpu\n",
      "  warnings.warn(f\"Device used : {self.device}\")\n",
      "C:\\Users\\mikep\\AppData\\Local\\Packages\\PythonSoftwareFoundation.Python.3.11_qbz5n2kfra8p0\\LocalCache\\local-packages\\Python311\\site-packages\\pytorch_tabnet\\abstract_model.py:687: UserWarning: No early stopping will be performed, last training weights will be used.\n",
      "  warnings.warn(wrn_msg)\n"
     ]
    },
    {
     "name": "stdout",
     "output_type": "stream",
     "text": [
      "epoch 0  | loss: 0.34539 |  0:00:03s\n",
      "epoch 1  | loss: 0.31558 |  0:00:06s\n",
      "epoch 2  | loss: 0.31415 |  0:00:09s\n",
      "epoch 3  | loss: 0.31359 |  0:00:12s\n",
      "epoch 4  | loss: 0.31018 |  0:00:15s\n",
      "epoch 5  | loss: 0.30481 |  0:00:18s\n",
      "epoch 6  | loss: 0.30393 |  0:00:20s\n",
      "epoch 7  | loss: 0.30401 |  0:00:23s\n",
      "epoch 8  | loss: 0.30421 |  0:00:25s\n",
      "epoch 9  | loss: 0.30496 |  0:00:28s\n",
      "epoch 10 | loss: 0.30085 |  0:00:30s\n",
      "epoch 11 | loss: 0.29948 |  0:00:33s\n",
      "epoch 12 | loss: 0.29762 |  0:00:35s\n",
      "epoch 13 | loss: 0.29881 |  0:00:38s\n",
      "epoch 14 | loss: 0.30012 |  0:00:41s\n",
      "epoch 15 | loss: 0.29781 |  0:00:43s\n",
      "epoch 16 | loss: 0.29702 |  0:00:46s\n",
      "epoch 17 | loss: 0.29541 |  0:00:48s\n",
      "epoch 18 | loss: 0.29466 |  0:00:51s\n",
      "epoch 19 | loss: 0.29421 |  0:00:53s\n",
      "epoch 20 | loss: 0.2936  |  0:00:56s\n",
      "epoch 21 | loss: 0.29289 |  0:00:58s\n",
      "epoch 22 | loss: 0.2933  |  0:01:01s\n",
      "epoch 23 | loss: 0.29237 |  0:01:04s\n",
      "epoch 24 | loss: 0.29251 |  0:01:06s\n",
      "epoch 25 | loss: 0.29205 |  0:01:09s\n",
      "epoch 26 | loss: 0.29255 |  0:01:11s\n",
      "epoch 27 | loss: 0.29196 |  0:01:14s\n",
      "epoch 28 | loss: 0.29367 |  0:01:16s\n",
      "epoch 29 | loss: 0.29278 |  0:01:19s\n",
      "epoch 30 | loss: 0.29302 |  0:01:21s\n",
      "epoch 31 | loss: 0.29224 |  0:01:24s\n",
      "epoch 32 | loss: 0.294   |  0:01:26s\n",
      "epoch 33 | loss: 0.29346 |  0:01:29s\n",
      "epoch 34 | loss: 0.29273 |  0:01:31s\n",
      "epoch 35 | loss: 0.29248 |  0:01:34s\n",
      "epoch 36 | loss: 0.29534 |  0:01:36s\n",
      "epoch 37 | loss: 0.29362 |  0:01:39s\n",
      "epoch 38 | loss: 0.29195 |  0:01:41s\n",
      "epoch 39 | loss: 0.29112 |  0:01:44s\n",
      "epoch 40 | loss: 0.29295 |  0:01:47s\n",
      "epoch 41 | loss: 0.2927  |  0:01:49s\n",
      "epoch 42 | loss: 0.29185 |  0:01:52s\n",
      "epoch 43 | loss: 0.29099 |  0:01:54s\n",
      "epoch 44 | loss: 0.29081 |  0:01:57s\n",
      "epoch 45 | loss: 0.2915  |  0:01:59s\n",
      "epoch 46 | loss: 0.2942  |  0:02:02s\n",
      "epoch 47 | loss: 0.29434 |  0:02:04s\n",
      "epoch 48 | loss: 0.29164 |  0:02:07s\n",
      "epoch 49 | loss: 0.29226 |  0:02:09s\n",
      "epoch 50 | loss: 0.29152 |  0:02:12s\n",
      "epoch 51 | loss: 0.29118 |  0:02:15s\n",
      "epoch 52 | loss: 0.29045 |  0:02:17s\n",
      "epoch 53 | loss: 0.29065 |  0:02:20s\n",
      "epoch 54 | loss: 0.29113 |  0:02:22s\n",
      "epoch 55 | loss: 0.29606 |  0:02:25s\n",
      "epoch 56 | loss: 0.29355 |  0:02:27s\n",
      "epoch 57 | loss: 0.29297 |  0:02:30s\n",
      "epoch 58 | loss: 0.29218 |  0:02:32s\n",
      "epoch 59 | loss: 0.29179 |  0:02:35s\n",
      "epoch 60 | loss: 0.29159 |  0:02:37s\n",
      "epoch 61 | loss: 0.29124 |  0:02:40s\n",
      "epoch 62 | loss: 0.29015 |  0:02:42s\n",
      "epoch 63 | loss: 0.2901  |  0:02:45s\n",
      "epoch 64 | loss: 0.29098 |  0:02:47s\n",
      "epoch 65 | loss: 0.2898  |  0:02:50s\n",
      "epoch 66 | loss: 0.29037 |  0:02:52s\n",
      "epoch 67 | loss: 0.28919 |  0:02:55s\n",
      "epoch 68 | loss: 0.29073 |  0:02:57s\n",
      "epoch 69 | loss: 0.28942 |  0:03:00s\n",
      "epoch 70 | loss: 0.29044 |  0:03:03s\n",
      "epoch 71 | loss: 0.29168 |  0:03:05s\n",
      "epoch 72 | loss: 0.29005 |  0:03:08s\n",
      "epoch 73 | loss: 0.28792 |  0:03:10s\n",
      "epoch 74 | loss: 0.28884 |  0:03:13s\n",
      "epoch 75 | loss: 0.28804 |  0:03:15s\n",
      "epoch 76 | loss: 0.28914 |  0:03:18s\n",
      "epoch 77 | loss: 0.28745 |  0:03:20s\n",
      "epoch 78 | loss: 0.28788 |  0:03:23s\n",
      "epoch 79 | loss: 0.28761 |  0:03:25s\n",
      "epoch 80 | loss: 0.28755 |  0:03:28s\n",
      "epoch 81 | loss: 0.28718 |  0:03:30s\n",
      "epoch 82 | loss: 0.28823 |  0:03:33s\n",
      "epoch 83 | loss: 0.28559 |  0:03:35s\n",
      "epoch 84 | loss: 0.28695 |  0:03:38s\n",
      "epoch 85 | loss: 0.28724 |  0:03:40s\n",
      "epoch 86 | loss: 0.28742 |  0:03:43s\n",
      "epoch 87 | loss: 0.28639 |  0:03:46s\n",
      "epoch 88 | loss: 0.28817 |  0:03:48s\n",
      "epoch 89 | loss: 0.28827 |  0:03:51s\n",
      "epoch 90 | loss: 0.28655 |  0:03:53s\n",
      "epoch 91 | loss: 0.28636 |  0:03:56s\n",
      "epoch 92 | loss: 0.28647 |  0:03:58s\n",
      "epoch 93 | loss: 0.28574 |  0:04:01s\n",
      "epoch 94 | loss: 0.28521 |  0:04:03s\n",
      "epoch 95 | loss: 0.28548 |  0:04:06s\n",
      "epoch 96 | loss: 0.285   |  0:04:08s\n",
      "epoch 97 | loss: 0.28446 |  0:04:11s\n",
      "epoch 98 | loss: 0.28482 |  0:04:13s\n",
      "epoch 99 | loss: 0.28362 |  0:04:16s\n",
      "Accuracy: 0.9004981024667932\n"
     ]
    }
   ],
   "source": [
    "import pandas as pd\n",
    "from sklearn.model_selection import train_test_split\n",
    "from pytorch_tabnet.tab_model import TabNetClassifier\n",
    "import torch\n",
    "\n",
    "# データの読み込み\n",
    "data = pd.read_csv('../data/processed_train_data.csv')\n",
    "# 特徴量とターゲットの分離\n",
    "X = data.drop(columns=['MIS_Status'])\n",
    "y = data['MIS_Status']\n",
    "\n",
    "# トレーニングセットとテストセットに分割\n",
    "X_train, X_test, y_train, y_test = train_test_split(X, y, test_size=0.2, random_state=42)\n",
    "\n",
    "# TabNetモデルの初期化\n",
    "model = TabNetClassifier()\n",
    "\n",
    "# モデルのトレーニング\n",
    "model.fit(X_train.values, y_train.values, max_epochs=100, batch_size=256, virtual_batch_size=128)\n",
    "\n",
    "# モデルの評価\n",
    "preds = model.predict(X_test.values)\n",
    "accuracy = (preds == y_test.values).mean()\n",
    "print(f\"Accuracy: {accuracy}\")"
   ]
  },
  {
   "cell_type": "code",
   "execution_count": 17,
   "metadata": {},
   "outputs": [
    {
     "data": {
      "text/plain": [
       "Term                      float64\n",
       "NoEmp                     float64\n",
       "NewExist                  float64\n",
       "CreateJob                 float64\n",
       "RetainedJob               float64\n",
       "FranchiseCode             float64\n",
       "RevLineCr                 float64\n",
       "LowDoc                    float64\n",
       "Sector                    float64\n",
       "ApprovalFY                float64\n",
       "DisbursementGross         float64\n",
       "GrAppv                    float64\n",
       "SBA_Appv                  float64\n",
       "UrbanRural                float64\n",
       "DisbursementDate_Year     float64\n",
       "DisbursementDate_Month    float64\n",
       "DisbursementDate_Day      float64\n",
       "ApprovalDate_Year         float64\n",
       "ApprovalDate_Month        float64\n",
       "ApprovalDate_Day          float64\n",
       "dtype: object"
      ]
     },
     "execution_count": 17,
     "metadata": {},
     "output_type": "execute_result"
    }
   ],
   "source": [
    "test = pd.read_csv('../data/processed_test_data_v3.csv')\n",
    "test = test.drop(['City','State','BankState'],axis=1)\n",
    "test.dtypes"
   ]
  },
  {
   "cell_type": "code",
   "execution_count": 18,
   "metadata": {},
   "outputs": [
    {
     "data": {
      "text/plain": [
       "array([0, 1, 1, ..., 1, 1, 0], dtype=int64)"
      ]
     },
     "execution_count": 18,
     "metadata": {},
     "output_type": "execute_result"
    }
   ],
   "source": [
    "# モデルを使用して予測\n",
    "predictions = model.predict(test.values)\n",
    "predictions"
   ]
  },
  {
   "cell_type": "code",
   "execution_count": 19,
   "metadata": {},
   "outputs": [],
   "source": [
    "submit = pd.read_csv('../data/sample_submission.csv', header=None)\n",
    "\n",
    "# 予測結果の組み込み\n",
    "submit.iloc[:, 1] = predictions\n",
    "\n",
    "# 提出用ファイルの保存\n",
    "filename = 'tabnet_predictions'\n",
    "submit.to_csv('outputs/' + filename + '.csv', index=False, header=None)"
   ]
  },
  {
   "cell_type": "code",
   "execution_count": 20,
   "metadata": {},
   "outputs": [
    {
     "name": "stdout",
     "output_type": "stream",
     "text": [
      "Term: 0.09001853805388511\n",
      "NoEmp: 0.2502581749596592\n",
      "NewExist: 0.04762007764732473\n",
      "CreateJob: 0.0\n",
      "RetainedJob: 0.0\n",
      "FranchiseCode: 0.0\n",
      "RevLineCr: 0.15263194485933346\n",
      "LowDoc: 0.0\n",
      "Sector: 0.0024625466889392697\n",
      "ApprovalFY: 0.0\n",
      "DisbursementGross: 0.03337732478565205\n",
      "GrAppv: 0.0\n",
      "SBA_Appv: 0.0\n",
      "UrbanRural: 0.015252136022041804\n",
      "DisbursementDate_Year: 0.4083792569831643\n",
      "DisbursementDate_Month: 0.0\n",
      "DisbursementDate_Day: 0.0\n",
      "ApprovalDate_Year: 0.0\n",
      "ApprovalDate_Month: 0.0\n",
      "ApprovalDate_Day: 0.0\n"
     ]
    }
   ],
   "source": [
    "# 特徴量の重要度の取得\n",
    "feature_importances = model.feature_importances_\n",
    "\n",
    "# 特徴量の重要度を表示\n",
    "for feature, importance in zip(X_train.columns, feature_importances):\n",
    "    print(f\"{feature}: {importance}\")"
   ]
  }
 ],
 "metadata": {
  "kernelspec": {
   "display_name": "Python 3",
   "language": "python",
   "name": "python3"
  },
  "language_info": {
   "codemirror_mode": {
    "name": "ipython",
    "version": 3
   },
   "file_extension": ".py",
   "mimetype": "text/x-python",
   "name": "python",
   "nbconvert_exporter": "python",
   "pygments_lexer": "ipython3",
   "version": "3.11.7"
  }
 },
 "nbformat": 4,
 "nbformat_minor": 2
}
