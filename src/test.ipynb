{
 "cells": [
  {
   "cell_type": "code",
   "execution_count": 17,
   "metadata": {},
   "outputs": [],
   "source": [
    "import os\n",
    "import glob\n",
    "import pandas as pd\n",
    "from collections import Counter\n",
    "\n",
    "def read_csv(file_path):\n",
    "    return pd.read_csv(file_path)\n",
    "\n",
    "def majority_vote(values):\n",
    "    counts = Counter(values)\n",
    "    return counts.most_common(1)[0][0]\n",
    "\n",
    "directory = '../src/outputs/'\n",
    "csv_files = glob.glob(os.path.join(directory, '*.csv'))\n",
    "\n",
    "dataframes = [read_csv(file) for file in csv_files]\n",
    "\n",
    "# 2値の列の位置（インデックス）を指定します。この例では1列目（0から始まるインデックス）と仮定しています。\n",
    "binary_column_index = 1\n",
    "\n",
    "new_dataframe = pd.DataFrame()\n",
    "\n",
    "# 2値の列に対して多数決を計算し、新しいデータフレームに追加します。\n",
    "for i, column in enumerate(dataframes[0].columns):\n",
    "    if i == binary_column_index:\n",
    "        majority_votes = [majority_vote(row) for row in zip(*[df.iloc[:, i] for df in dataframes])]\n",
    "        new_dataframe[column] = majority_votes\n",
    "    else:\n",
    "        # 他の列（ID列など）はそのまま新しいデータフレームに追加します。\n",
    "        new_dataframe[column] = dataframes[0][column]"
   ]
  },
  {
   "cell_type": "code",
   "execution_count": 19,
   "metadata": {},
   "outputs": [],
   "source": [
    "new_dataframe.to_csv('submission.csv', index=False)"
   ]
  }
 ],
 "metadata": {
  "kernelspec": {
   "display_name": "Python 3",
   "language": "python",
   "name": "python3"
  },
  "language_info": {
   "codemirror_mode": {
    "name": "ipython",
    "version": 3
   },
   "file_extension": ".py",
   "mimetype": "text/x-python",
   "name": "python",
   "nbconvert_exporter": "python",
   "pygments_lexer": "ipython3",
   "version": "3.10.7"
  }
 },
 "nbformat": 4,
 "nbformat_minor": 2
}
