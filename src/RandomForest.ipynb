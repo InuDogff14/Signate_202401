{
 "cells": [
  {
   "cell_type": "code",
   "execution_count": 35,
   "metadata": {},
   "outputs": [],
   "source": [
    "import pandas as pd\n",
    "import numpy as np\n",
    "from preprocess import base_data\n",
    "from pathlib import Path\n",
    "import hydra\n",
    "import yaml\n",
    "import lightgbm as lgb\n",
    "from sklearn.model_selection import train_test_split\n",
    "from sklearn.metrics import confusion_matrix, classification_report\n",
    "from sklearn.metrics import roc_auc_score\n",
    "from sklearn.model_selection import cross_val_score\n",
    "import optuna\n",
    "import os\n",
    "from sklearn.metrics import log_loss\n",
    "from imblearn.under_sampling import RandomUnderSampler\n",
    "from sklearn.model_selection import StratifiedKFold\n",
    "from sklearn.metrics import accuracy_score, precision_score, recall_score, f1_score, roc_auc_score\n",
    "from sklearn.preprocessing import LabelEncoder\n",
    "from sklearn.ensemble import RandomForestClassifier\n",
    "from sklearn.model_selection import KFold\n",
    "\n",
    "pd.set_option('display.max_columns', None)\n"
   ]
  },
  {
   "cell_type": "code",
   "execution_count": 36,
   "metadata": {},
   "outputs": [],
   "source": [
    "file_path = '../config/config.yaml'\n",
    "\n",
    "# ファイルを開いて内容を読み込む\n",
    "with open(file_path, 'r', encoding='utf-8') as file:\n",
    "    yaml = yaml.safe_load(file)\n",
    "\n",
    "# featuresリストを取得\n",
    "features = yaml.get('features', [])\n",
    "\n",
    "data = [pd.read_pickle(f\"../features/{f}.pkl\") for f in features]\n",
    "data = pd.concat(data, axis=1)"
   ]
  },
  {
   "cell_type": "code",
   "execution_count": 37,
   "metadata": {},
   "outputs": [],
   "source": [
    "\n",
    "data['Loan_Amount_per_Employee'] = data['DisbursementGross'] / data['NoEmp']\n",
    "\n",
    "# Handle possible division by zero\n",
    "data.replace([np.inf, -np.inf], np.nan, inplace=True)\n",
    "\n",
    "data['City_Count'] = data.groupby('City')['City'].transform('count')\n",
    "data['State_Count'] = data.groupby('State')['State'].transform('count')\n",
    "data['BankState_Count'] = data.groupby('BankState')['BankState'].transform('count')\n",
    "data['Sector_Count'] = data.groupby('Sector')['Sector'].transform('count')\n",
    "\n",
    "# 各行の欠損値の数を計算\n",
    "data['missing_values_count'] = data.isna().sum(axis=1)"
   ]
  },
  {
   "cell_type": "code",
   "execution_count": 38,
   "metadata": {},
   "outputs": [],
   "source": [
    "for col in ['RevLineCr','LowDoc','BankState','DisbursementYear','DisbursementMonth','DisbursementDay','LoanProcessingPeriod','Jobs_Created_per_Employee','Jobs_Retained_per_Employee','Loan_Amount_per_Employee','BankState_Count']:\n",
    "    mode = data[col].mode().iloc[0]\n",
    "    data[col] = data[col].fillna(mode)"
   ]
  },
  {
   "cell_type": "code",
   "execution_count": 39,
   "metadata": {},
   "outputs": [],
   "source": [
    "category_features = ['State', 'BankState', 'Sector', 'NewExist', 'UrbanRural', 'RevLineCr', 'LowDoc', 'Franchise', 'IsSameState']\n",
    "\n",
    "# LabelEncoderのインスタンスを作成\n",
    "label_encoders = {}\n",
    "\n",
    "for col in category_features:\n",
    "    # 各カテゴリー特徴量に対してLabelEncoderを適用\n",
    "    le = LabelEncoder()\n",
    "    data[col] = le.fit_transform(data[col])\n",
    "    label_encoders[col] = le  # 必要に応じて、変換したラベルエンコーダーを保存"
   ]
  },
  {
   "cell_type": "code",
   "execution_count": 40,
   "metadata": {},
   "outputs": [],
   "source": [
    "train = data[data[\"train\"]==True].drop(columns=\"train\")\n",
    "test = data[data['train'] == False]\n",
    "test = test.drop(['train','MIS_Status'],axis=1)\n"
   ]
  },
  {
   "cell_type": "code",
   "execution_count": 41,
   "metadata": {},
   "outputs": [],
   "source": [
    "train['MIS_Status'] = train['MIS_Status'].astype('int')"
   ]
  },
  {
   "cell_type": "code",
   "execution_count": null,
   "metadata": {},
   "outputs": [],
   "source": []
  },
  {
   "cell_type": "code",
   "execution_count": 42,
   "metadata": {},
   "outputs": [],
   "source": [
    "train = train.drop('City',axis=1)\n",
    "test = test.drop('City',axis=1)"
   ]
  },
  {
   "cell_type": "code",
   "execution_count": 43,
   "metadata": {},
   "outputs": [],
   "source": [
    "# 設定\n",
    "n_splits = 5\n",
    "kf = KFold(n_splits=n_splits)\n",
    "\n",
    "# OOF予測用の空配列\n",
    "oof_preds = np.zeros(train.shape[0])\n",
    "\n",
    "# テストデータ予測用の空配列\n",
    "test_preds = np.zeros(test.shape[0])\n",
    "\n",
    "# クロスバリデーション\n",
    "for train_index, val_index in kf.split(train):\n",
    "    X_train, X_val = train.iloc[train_index], train.iloc[val_index]\n",
    "\n",
    "    # ここで目的変数を設定\n",
    "    y_train, y_val = X_train['MIS_Status'], X_val['MIS_Status']\n",
    "    \n",
    "    X_train = X_train.drop(['MIS_Status'],axis=1)\n",
    "    X_val = X_val.drop(['MIS_Status'],axis=1)\n",
    "    \n",
    "    # モデルの訓練\n",
    "    model = RandomForestClassifier()\n",
    "    model.fit(X_train, y_train)\n",
    "    \n",
    "    # OOF予測\n",
    "    oof_preds[val_index] = model.predict_proba(X_val)[:, 1]\n",
    "    \n",
    "    test_preds += model.predict_proba(test)[:, 1] / n_splits\n",
    "\n",
    "# 訓練データにOOF予測を追加\n",
    "train['rf_preds'] = oof_preds\n",
    "\n",
    "# テストデータに予測を追加\n",
    "test['rf_preds'] = test_preds"
   ]
  },
  {
   "cell_type": "code",
   "execution_count": 44,
   "metadata": {},
   "outputs": [],
   "source": [
    "# 訓練データとテストデータのCSVファイルに保存する列の選択\n",
    "train_csv = train[['ID', 'rf_preds']]\n",
    "test_csv = test[['ID', 'rf_preds']]\n",
    "\n",
    "# CSVファイルに保存\n",
    "train_csv_path = '../data/Stacking/rf/train_rf_predictions.csv'\n",
    "test_csv_path = '../data/Stacking/rf/test_rf_predictions.csv'\n",
    "\n",
    "train_csv.to_csv(train_csv_path, index=False)\n",
    "test_csv.to_csv(test_csv_path, index=False)"
   ]
  },
  {
   "cell_type": "code",
   "execution_count": 9,
   "metadata": {},
   "outputs": [],
   "source": [
    "X_train = train.drop('MIS_Status', axis=1)\n",
    "y_train = train['MIS_Status']\n",
    "\n",
    "# Further splitting the training data into training and validation sets\n",
    "X_train, X_val, y_train, y_val = train_test_split(X_train, y_train, test_size=0.2, random_state=42)"
   ]
  },
  {
   "cell_type": "code",
   "execution_count": 10,
   "metadata": {},
   "outputs": [
    {
     "data": {
      "text/plain": [
       "Term                              0\n",
       "NoEmp                             0\n",
       "NewExist                          0\n",
       "CreateJob                         0\n",
       "RetainedJob                       0\n",
       "FranchiseCode                     0\n",
       "RevLineCr                         0\n",
       "LowDoc                            0\n",
       "Sector                            0\n",
       "ApprovalFY                        0\n",
       "State                             0\n",
       "BankState                         0\n",
       "DisbursementGross                 0\n",
       "GrAppv                            0\n",
       "SBA_Appv                          0\n",
       "UrbanRural                        0\n",
       "DisbursementYear                  0\n",
       "DisbursementMonth                 0\n",
       "DisbursementDay                   0\n",
       "ApprovalYear                      0\n",
       "ApprovalMonth                     0\n",
       "ApprovalDay                       0\n",
       "IsSameState                       0\n",
       "LoanProcessingPeriod              0\n",
       "LoanvsApprovedAmountDifference    0\n",
       "SBAGuaranteeRatio                 0\n",
       "YearsSinceApproval                0\n",
       "Franchise                         0\n",
       "Jobs_Created_per_Employee         0\n",
       "Jobs_Retained_per_Employee        0\n",
       "Loan_Amount_per_Employee          0\n",
       "City_Count                        0\n",
       "State_Count                       0\n",
       "BankState_Count                   0\n",
       "Sector_Count                      0\n",
       "missing_values_count              0\n",
       "dtype: int64"
      ]
     },
     "execution_count": 10,
     "metadata": {},
     "output_type": "execute_result"
    }
   ],
   "source": [
    "X_train.isna().sum()"
   ]
  },
  {
   "cell_type": "code",
   "execution_count": 11,
   "metadata": {},
   "outputs": [],
   "source": [
    "params = {\n",
    "    'objective': 'binary',  # 二値分類問題\n",
    "    'metric': 'binary_logloss',  # 損失関数\n",
    "    'num_leaves': 56,\n",
    "    'min_data_in_leaf': 696,\n",
    "    'class_weight': {1:1/7575,0:1/887},\n",
    "    'random_state': 0,\n",
    "    'extra_trees': True,\n",
    "    'verbose': -1,\n",
    "    'boosting_type': 'gbdt',\n",
    "    'learning_rate': 0.09342053957127938,    # default = 0.1,best=0.08\n",
    "    'feature_fraction': 0.558114049397983,  # default = 1.0\n",
    "}\n"
   ]
  },
  {
   "cell_type": "code",
   "execution_count": 12,
   "metadata": {},
   "outputs": [],
   "source": [
    "# 各クラスのサンプル数を計算\n",
    "class_counts = data['MIS_Status'].value_counts()\n",
    "\n",
    "# 逆数に基づいて重みを計算\n",
    "weights = 1.0 / class_counts\n",
    "\n",
    "# 重みを正規化\n",
    "weights_normalized = weights / weights.sum()\n",
    "\n",
    "# 辞書形式でクラスの重みを設定\n",
    "class_weights = {i: weights_normalized[i] for i in class_counts.index}"
   ]
  },
  {
   "cell_type": "code",
   "execution_count": 13,
   "metadata": {},
   "outputs": [
    {
     "data": {
      "text/plain": [
       "{1: 0.10731084690476753, 0: 0.8926891530952324}"
      ]
     },
     "execution_count": 13,
     "metadata": {},
     "output_type": "execute_result"
    }
   ],
   "source": [
    "class_weights"
   ]
  },
  {
   "cell_type": "code",
   "execution_count": 14,
   "metadata": {},
   "outputs": [],
   "source": [
    "\n",
    "\n",
    "models = []\n",
    "for seed in range(10):\n",
    "    # データサンプリング\n",
    "    train_sample = X_train.sample(frac=0.8, random_state=seed)\n",
    "    y_sample = y_train[train_sample.index]\n",
    "\n",
    "    # モデルの学習\n",
    "    rf_clf = RandomForestClassifier(class_weight=class_weights)\n",
    "    rf_clf.fit(train_sample, y_sample)\n",
    "\n",
    "    # 検証データに対する予測\n",
    "    y_pred = rf_clf.predict(X_val)\n",
    "    y_pred_proba = rf_clf.predict_proba(X_val)[:, 1]  # AUCの計算に使用\n",
    "\n",
    "    # メトリクスの計算\n",
    "    accuracy = accuracy_score(y_val, y_pred)\n",
    "    precision = precision_score(y_val, y_pred)\n",
    "    recall = recall_score(y_val, y_pred)\n",
    "    f1 = f1_score(y_val, y_pred)\n",
    "    roc_auc = roc_auc_score(y_val, y_pred_proba)\n",
    "\n",
    "    # モデルをリストに追加\n",
    "    models.append(rf_clf)\n"
   ]
  },
  {
   "cell_type": "code",
   "execution_count": 15,
   "metadata": {},
   "outputs": [],
   "source": [
    "# 3. すべてのモデルを使用してトレーニングセットとテストセットの予測を行う。\n",
    "y_preds_train = []\n",
    "y_preds_test = []\n",
    "for model in models:\n",
    "    y_preds_train.append(model.predict_proba(X_train)[:, 1])\n",
    "    y_preds_test.append(model.predict_proba(X_val)[:, 1])"
   ]
  },
  {
   "cell_type": "code",
   "execution_count": 16,
   "metadata": {},
   "outputs": [],
   "source": [
    "# 4. 予測結果を平均して、最終的な予測を得る。\n",
    "y_pred_train = np.mean(y_preds_train, axis=0)\n",
    "y_pred = np.mean(y_preds_test, axis=0)"
   ]
  },
  {
   "cell_type": "code",
   "execution_count": null,
   "metadata": {},
   "outputs": [],
   "source": []
  },
  {
   "cell_type": "code",
   "execution_count": 17,
   "metadata": {},
   "outputs": [
    {
     "name": "stdout",
     "output_type": "stream",
     "text": [
      "0.7613536934302225\n",
      "Total cases: 8462\n",
      "True positives: 7543 ( 89.14 %)\n",
      "False positives: 796 ( 9.41 %)\n",
      "True negatives: 91 ( 1.08 %)\n",
      "False negatives: 32 ( 0.38 %)\n"
     ]
    }
   ],
   "source": [
    "print(roc_auc_score(y_val, y_pred))\n",
    "total_cases = len(y_val)  # テストデータの総数\n",
    "TP = (y_val == 1) & (y_pred >= 0.5)  # True positives\n",
    "FP = (y_val == 0) & (y_pred >= 0.5)  # False positives\n",
    "TN = (y_val == 0) & (y_pred < 0.5)  # True negatives\n",
    "FN = (y_val == 1) & (y_pred < 0.5)  # False negatives\n",
    "\n",
    "TP_count = sum(TP)\n",
    "FP_count = sum(FP)\n",
    "TN_count = sum(TN)\n",
    "FN_count = sum(FN)\n",
    "\n",
    "accuracy_TP = TP_count / total_cases * 100\n",
    "misclassification_rate_FP = FP_count / total_cases * 100\n",
    "accuracy_TN = TN_count / total_cases * 100\n",
    "misclassification_rate_FN = FN_count / total_cases * 100\n",
    "\n",
    "print(\"Total cases:\", total_cases)\n",
    "print(\"True positives:\", TP_count, \"(\", \"{:.2f}\".format(accuracy_TP), \"%)\")\n",
    "print(\"False positives:\", FP_count, \"(\", \"{:.2f}\".format(misclassification_rate_FP), \"%)\")\n",
    "print(\"True negatives:\", TN_count, \"(\", \"{:.2f}\".format(accuracy_TN), \"%)\")\n",
    "print(\"False negatives:\", FN_count, \"(\", \"{:.2f}\".format(misclassification_rate_FN), \"%)\")"
   ]
  },
  {
   "cell_type": "code",
   "execution_count": 18,
   "metadata": {},
   "outputs": [
    {
     "name": "stdout",
     "output_type": "stream",
     "text": [
      "accuracy_score, precision_score, recall_score, f1_score, roc_auc_score\n",
      "0.902, 0.905, 0.996, 0.948, 0.761\n"
     ]
    }
   ],
   "source": [
    "\n",
    "print('accuracy_score, precision_score, recall_score, f1_score, roc_auc_score')\n",
    "y_pred_binary = np.where(y_pred > 0.5, 1, 0)  # 0.5が閾値\n",
    "\n",
    "# スコア関数の修正\n",
    "score_funcs = [\n",
    "    accuracy_score, \n",
    "    lambda y_true, y_pred: precision_score(y_true, y_pred, average='binary'), \n",
    "    lambda y_true, y_pred: recall_score(y_true, y_pred, average='binary'),\n",
    "    lambda y_true, y_pred: f1_score(y_true, y_pred, average='binary'),\n",
    "    roc_auc_score  # この関数は確率をそのまま使用\n",
    "]\n",
    "\n",
    "# スコアの計算（roc_auc_score以外はy_pred_binaryを使用）\n",
    "scores = [\n",
    "    round(f(y_val, y_pred_binary if f != roc_auc_score else y_pred), 3)\n",
    "    for f in score_funcs\n",
    "]\n",
    "\n",
    "print(', '.join(map(str, scores)))"
   ]
  },
  {
   "cell_type": "code",
   "execution_count": 19,
   "metadata": {},
   "outputs": [
    {
     "name": "stderr",
     "output_type": "stream",
     "text": [
      "C:\\Users\\田代雄大\\AppData\\Local\\Temp\\ipykernel_32932\\2231769154.py:4: FutureWarning: Unlike other reduction functions (e.g. `skew`, `kurtosis`), the default behavior of `mode` typically preserves the axis it acts along. In SciPy 1.11.0, this behavior will change: the default value of `keepdims` will become False, the `axis` over which the statistic is taken will be eliminated, and the value None will no longer be accepted. Set `keepdims` to True or False to avoid this warning.\n",
      "  y_new_pred = mode(y_preds_new, axis=0)[0]\n"
     ]
    }
   ],
   "source": [
    "from scipy.stats import mode\n",
    "\n",
    "y_preds_new = [model.predict(test) for model in models]\n",
    "y_new_pred = mode(y_preds_new, axis=0)[0]"
   ]
  },
  {
   "cell_type": "code",
   "execution_count": 20,
   "metadata": {},
   "outputs": [
    {
     "name": "stderr",
     "output_type": "stream",
     "text": [
      "C:\\Users\\田代雄大\\AppData\\Local\\Temp\\ipykernel_32932\\2573150296.py:3: FutureWarning: In a future version, `df.iloc[:, i] = newvals` will attempt to set the values inplace instead of always setting a new array. To retain the old behavior, use either `df[df.columns[i]] = newvals` or, if columns are non-unique, `df.isetitem(i, newvals)`\n",
      "  submit.iloc[:, 1] = y_new_pred.ravel()\n"
     ]
    }
   ],
   "source": [
    "submit = pd.read_csv('../data/sample_submission.csv', header=None)\n",
    "\n",
    "submit.iloc[:, 1] = y_new_pred.ravel()\n",
    "filename = 'RF_base'\n",
    "\n",
    "submit.to_csv('outputs/' + filename + '.csv', index=False,header=None)"
   ]
  },
  {
   "cell_type": "code",
   "execution_count": 21,
   "metadata": {},
   "outputs": [
    {
     "name": "stdout",
     "output_type": "stream",
     "text": [
      " 1) Term                           0.058654\n",
      " 2) NoEmp                          0.057696\n",
      " 3) UrbanRural                     0.054250\n",
      " 4) City_Count                     0.053641\n",
      " 5) Loan_Amount_per_Employee       0.046073\n",
      " 6) LoanProcessingPeriod           0.045569\n",
      " 7) ApprovalDay                    0.038488\n",
      " 8) SBA_Appv                       0.036876\n",
      " 9) DisbursementYear               0.036024\n",
      "10) DisbursementGross              0.035364\n",
      "11) GrAppv                         0.033034\n",
      "12) ApprovalMonth                  0.030115\n",
      "13) Sector_Count                   0.029163\n",
      "14) State                          0.029149\n",
      "15) BankState                      0.029147\n",
      "16) State_Count                    0.028753\n",
      "17) DisbursementMonth              0.027789\n",
      "18) Sector                         0.027116\n",
      "19) BankState_Count                0.026926\n",
      "20) RetainedJob                    0.025836\n",
      "21) ApprovalYear                   0.024974\n",
      "22) YearsSinceApproval             0.024836\n",
      "23) ApprovalFY                     0.024259\n",
      "24) DisbursementDay                0.022634\n",
      "25) RevLineCr                      0.022112\n",
      "26) Jobs_Retained_per_Employee     0.020829\n",
      "27) CreateJob                      0.019613\n",
      "28) SBAGuaranteeRatio              0.018581\n",
      "29) Jobs_Created_per_Employee      0.014918\n",
      "30) FranchiseCode                  0.011525\n",
      "31) LowDoc                         0.010926\n",
      "32) NewExist                       0.010477\n",
      "33) LoanvsApprovedAmountDifference 0.010397\n",
      "34) missing_values_count           0.006212\n",
      "35) IsSameState                    0.006057\n",
      "36) Franchise                      0.001986\n"
     ]
    }
   ],
   "source": [
    "# 特徴量の重要度を取得\n",
    "importance = rf_clf.feature_importances_\n",
    "\n",
    "# 特徴量の名前を取得\n",
    "feature_names = X_train.columns\n",
    "\n",
    "# 特徴量の重要度を降順にソート\n",
    "indices = np.argsort(importance)[::-1]\n",
    "\n",
    "# 特徴量の重要度を降順に表示\n",
    "for f in range(X_train.shape[1]):\n",
    "    print(\"%2d) %-*s %f\" % (f + 1, 30, feature_names[indices[f]], importance[indices[f]]))"
   ]
  },
  {
   "cell_type": "code",
   "execution_count": 22,
   "metadata": {},
   "outputs": [
    {
     "data": {
      "image/png": "[encoded data removed]",
      "text/plain": [
       "<Figure size 640x480 with 1 Axes>"
      ]
     },
     "metadata": {},
     "output_type": "display_data"
    }
   ],
   "source": [
    "from sklearn.metrics import roc_curve, auc\n",
    "import matplotlib.pyplot as plt\n",
    "\n",
    "# FPR, TPR, およびしきい値を計算する\n",
    "fpr, tpr, thresholds = roc_curve(y_val, y_pred)\n",
    "\n",
    "# AUC（Area Under Curve）を計算する\n",
    "roc_auc = auc(fpr, tpr)\n",
    "\n",
    "# ROC曲線をプロットする\n",
    "plt.figure()\n",
    "plt.plot(fpr, tpr, color='darkorange', lw=2, label='ROC curve (area = %0.2f)' % roc_auc)\n",
    "plt.plot([0, 1], [0, 1], color='navy', lw=2, linestyle='--')\n",
    "plt.xlim([0.0, 1.0])\n",
    "plt.ylim([0.0, 1.05])\n",
    "plt.xlabel('False Positive Rate')\n",
    "plt.ylabel('True Positive Rate')\n",
    "plt.title('Receiver Operating Characteristic')\n",
    "plt.legend(loc=\"lower right\")\n",
    "plt.show()"
   ]
  },
  {
   "cell_type": "code",
   "execution_count": 23,
   "metadata": {},
   "outputs": [
    {
     "data": {
      "image/png": "[encoded data removed]",
      "text/plain": [
       "<Figure size 640x480 with 1 Axes>"
      ]
     },
     "metadata": {},
     "output_type": "display_data"
    }
   ],
   "source": [
    "from sklearn.metrics import precision_recall_curve, auc\n",
    "\n",
    "# 精度と再現率を計算\n",
    "precision, recall, thresholds = precision_recall_curve(y_val, y_pred)\n",
    "\n",
    "# PR AUCを計算\n",
    "pr_auc = auc(recall, precision)\n",
    "\n",
    "# PR曲線をプロット\n",
    "plt.figure()\n",
    "plt.plot(recall, precision, color='blue', lw=2, label='PR curve (area = %0.2f)' % pr_auc)\n",
    "plt.xlabel('Recall')\n",
    "plt.ylabel('Precision')\n",
    "plt.title('Precision-Recall curve')\n",
    "plt.legend(loc=\"lower left\")\n",
    "plt.show()"
   ]
  }
 ],
 "metadata": {
  "kernelspec": {
   "display_name": "Python 3",
   "language": "python",
   "name": "python3"
  },
  "language_info": {
   "codemirror_mode": {
    "name": "ipython",
    "version": 3
   },
   "file_extension": ".py",
   "mimetype": "text/x-python",
   "name": "python",
   "nbconvert_exporter": "python",
   "pygments_lexer": "ipython3",
   "version": "3.10.7"
  }
 },
 "nbformat": 4,
 "nbformat_minor": 2
}
