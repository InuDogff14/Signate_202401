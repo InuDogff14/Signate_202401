{
 "cells": [
  {
   "cell_type": "code",
   "execution_count": 242,
   "metadata": {},
   "outputs": [],
   "source": [
    "import pandas as pd\n",
    "from sklearn.model_selection import train_test_split\n",
    "from pytorch_tabnet.tab_model import TabNetClassifier\n",
    "import torch\n",
    "import numpy as np\n",
    "import yaml\n",
    "import pandas as pd\n",
    "import random\n",
    "\n",
    "import numpy as np\n",
    "from matplotlib import pyplot as plt\n",
    "%matplotlib inline\n",
    "import seaborn as sns\n",
    "import warnings\n",
    "warnings.filterwarnings('ignore')\n",
    "\n",
    "import pickle\n",
    "\n",
    "from sklearn.preprocessing import StandardScaler, MinMaxScaler, LabelEncoder, OneHotEncoder\n",
    "from sklearn.model_selection import train_test_split, KFold, StratifiedKFold\n",
    "from sklearn.metrics import accuracy_score, roc_auc_score, confusion_matrix\n",
    "from sklearn.preprocessing import StandardScaler\n",
    "from sklearn.mixture import GaussianMixture\n",
    "#カスタム評価関数\n",
    "#Pickleでは保存できなかったので、別にしたがそれでもModelの保存はできなかった\n",
    "from f1_score_metric import F1ScoreMacro\n",
    "\n",
    "import optuna\n",
    "\n",
    "import torch.nn.functional as F\n",
    "from torch.nn import CrossEntropyLoss\n",
    "from torch import nn\n",
    "from pytorch_tabnet.pretraining import TabNetPretrainer\n",
    "from pytorch_tabnet.tab_model import TabNetClassifier\n",
    "import torch\n",
    "from sklearn.metrics import f1_score"
   ]
  },
  {
   "cell_type": "code",
   "execution_count": 243,
   "metadata": {},
   "outputs": [],
   "source": [
    "def createfeatures(data,cat_feature):\n",
    "    templist=['NoEmp','CreateJob','RetainedJob','DisbursementGross','GrAppv','SBA_Appv']\n",
    "    \n",
    "    for col in templist:\n",
    "        means = data.groupby(cat_feature)[col].mean()\n",
    "        # 各ローンのTermとセクター平均Termとの差を計算\n",
    "        data[f'{col}_Diff_{cat_feature}_Mean'] = data.apply(lambda x: x[col] - means[x[cat_feature]], axis=1)\n",
    "\n",
    "        # 各ローンのTermとセクター平均Termとの比を計算\n",
    "        data[f'{col}_Ratio_{cat_feature}_Mean'] = data.apply(lambda x: x[col] / means[x[cat_feature]], axis=1)\n",
    "        \n",
    "    return data"
   ]
  },
  {
   "cell_type": "code",
   "execution_count": 244,
   "metadata": {},
   "outputs": [],
   "source": [
    "file_path = '../config/config.yaml'\n",
    "\n",
    "# ファイルを開いて内容を読み込む\n",
    "with open(file_path, 'r', encoding='utf-8') as file:\n",
    "    yaml = yaml.safe_load(file)\n",
    "\n",
    "# featuresリストを取得\n",
    "features = yaml.get('features', [])\n",
    "\n",
    "data = [pd.read_pickle(f\"../features/{f}.pkl\") for f in features]\n",
    "data = pd.concat(data, axis=1)"
   ]
  },
  {
   "cell_type": "code",
   "execution_count": 245,
   "metadata": {},
   "outputs": [],
   "source": [
    "# data=pd.read_pickle('../features/base_data.pkl')"
   ]
  },
  {
   "cell_type": "code",
   "execution_count": 246,
   "metadata": {},
   "outputs": [],
   "source": [
    "# Handle possible division by zero\n",
    "data.replace([np.inf, -np.inf], np.nan, inplace=True)\n",
    "# 各行の欠損値の数を計算\n",
    "data['missing_values_count'] = data.isna().sum(axis=1)\n",
    "# for col in ['State','Sector','FranchiseCode']:\n",
    "#     data = createfeatures(data,col)"
   ]
  },
  {
   "cell_type": "code",
   "execution_count": 247,
   "metadata": {},
   "outputs": [],
   "source": [
    "state_to_coords = {\n",
    "    'AL': (32.806671, -86.791130), 'AK': (61.370716, -152.404419), 'AZ': (33.729759, -111.431221),\n",
    "    'AR': (34.969704, -92.373123), 'CA': (36.116203, -119.681564), 'CO': (39.059811, -105.311104),\n",
    "    'CT': (41.597782, -72.755371), 'DE': (39.318523, -75.507141), 'FL': (27.766279, -81.686783),\n",
    "    'GA': (33.040619, -83.643074), 'HI': (21.094318, -157.498337), 'ID': (44.240459, -114.478828),\n",
    "    'IL': (40.349457, -88.986137), 'IN': (39.849426, -86.258278), 'IA': (42.011539, -93.210526),\n",
    "    'KS': (38.526600, -96.726486), 'KY': (37.668140, -84.670067), 'LA': (31.169546, -91.867805),\n",
    "    'ME': (44.693947, -69.381927), 'MD': (39.063946, -76.802101), 'MA': (42.230171, -71.530106),\n",
    "    'MI': (43.326618, -84.536095), 'MN': (45.694454, -93.900192), 'MS': (32.741646, -89.678696),\n",
    "    'MO': (38.456085, -92.288368), 'MT': (46.921925, -110.454353), 'NE': (41.125370, -98.268082),\n",
    "    'NV': (38.313515, -117.055374), 'NH': (43.452492, -71.563896), 'NJ': (40.298904, -74.521011),\n",
    "    'NM': (34.840515, -106.248482), 'NY': (42.165726, -74.948051), 'NC': (35.630066, -79.806419),\n",
    "    'ND': (47.528912, -99.784012), 'OH': (40.388783, -82.764915), 'OK': (35.565342, -96.928917),\n",
    "    'OR': (44.572021, -122.070938), 'PA': (40.590752, -77.209755), 'RI': (41.680893, -71.511780),\n",
    "    'SC': (33.856892, -80.945007), 'SD': (44.299782, -99.438828), 'TN': (35.747845, -86.692345),\n",
    "    'TX': (31.054487, -97.563461), 'UT': (40.150032, -111.862434), 'VT': (44.045876, -72.710686),\n",
    "    'VA': (37.769337, -78.169968), 'WA': (47.400902, -121.490494), 'WV': (38.491226, -80.954570),\n",
    "    'WI': (44.268543, -89.616508), 'WY': (42.755966, -107.302490)\n",
    "}\n",
    "\n",
    "# Apply the mapping to the dataset to create new latitude and longitude columns\n",
    "data['Latitude'] = data['State'].map(lambda x: state_to_coords[x][0] if x in state_to_coords else None)\n",
    "data['Longitude'] = data['State'].map(lambda x: state_to_coords[x][1] if x in state_to_coords else None)\n",
    "data['BankState_Latitude'] = data['BankState'].map(lambda x: state_to_coords[x][0] if x in state_to_coords else None)\n",
    "data['BankState_Longitude'] = data['BankState'].map(lambda x: state_to_coords[x][1] if x in state_to_coords else None)"
   ]
  },
  {
   "cell_type": "code",
   "execution_count": 248,
   "metadata": {},
   "outputs": [],
   "source": [
    "train = data[data[\"train\"]==True].drop(columns=\"train\")\n",
    "test = data[data['train'] == False]\n",
    "test = test.drop(['train','MIS_Status'],axis=1)"
   ]
  },
  {
   "cell_type": "code",
   "execution_count": 249,
   "metadata": {},
   "outputs": [],
   "source": [
    "# 訓練データの読み込み\n",
    "X_train = train[['Term']]\n",
    "\n",
    "# スケーラーの初期化と適用（訓練データに対して）\n",
    "scaler = StandardScaler()\n",
    "X_train_scaled = scaler.fit_transform(X_train)\n",
    "\n",
    "# クラスタ数の候補を設定\n",
    "n_components = np.arange(1, 10)\n",
    "\n",
    "# BICを格納するためのリスト\n",
    "bics = []\n",
    "\n",
    "# 各クラスタ数に対してGMMをフィットし、BICを計算\n",
    "for n in n_components:\n",
    "    gmm = GaussianMixture(n_components=n, random_state=0)\n",
    "    gmm.fit(X_train_scaled)\n",
    "    bics.append(gmm.bic(X_train_scaled))\n",
    "\n",
    "# クラスタ数を選定\n",
    "gmm = GaussianMixture(n_components=9, random_state=0)\n",
    "gmm.fit(X_train_scaled)\n",
    "\n",
    "# 各データポイントのクラスタ割り当てを取得\n",
    "cluster_assignments = gmm.predict(X_train_scaled)\n",
    "\n",
    "# クラスタ割り当て結果をデータフレームに追加\n",
    "train['Term_Cluster'] = cluster_assignments\n",
    "\n",
    "# テストデータの読み込みとスケーリング（訓練データでフィットしたスケーラーを使用）\n",
    "X_test = test[['Term']]\n",
    "X_test_scaled = scaler.transform(X_test)\n",
    "\n",
    "# 訓練データでフィットさせたGMMを使用してクラスタ割り当てを予測\n",
    "test['Term_Cluster'] = gmm.predict(X_test_scaled)"
   ]
  },
  {
   "cell_type": "code",
   "execution_count": 250,
   "metadata": {},
   "outputs": [
    {
     "data": {
      "text/plain": [
       "array([3, 4, 1, 8, 2, 5, 0, 6, 7], dtype=int64)"
      ]
     },
     "execution_count": 250,
     "metadata": {},
     "output_type": "execute_result"
    }
   ],
   "source": [
    "train['Term_Cluster'].unique()"
   ]
  },
  {
   "cell_type": "code",
   "execution_count": 251,
   "metadata": {},
   "outputs": [
    {
     "data": {
      "text/plain": [
       "array([7, 1, 2, 6, 8, 4, 0, 3, 5], dtype=int64)"
      ]
     },
     "execution_count": 251,
     "metadata": {},
     "output_type": "execute_result"
    }
   ],
   "source": [
    "test['Term_Cluster'].unique()"
   ]
  },
  {
   "cell_type": "code",
   "execution_count": 252,
   "metadata": {},
   "outputs": [
    {
     "name": "stdout",
     "output_type": "stream",
     "text": [
      "Train unique columns: {'MIS_Status'}\n",
      "Test unique columns: set()\n"
     ]
    }
   ],
   "source": [
    "# trainとtestのカラムをセットとして取得\n",
    "train_columns = set(train.columns)\n",
    "test_columns = set(test.columns)\n",
    "\n",
    "# trainにのみ存在するカラムを見つける\n",
    "train_unique = train_columns - test_columns\n",
    "\n",
    "# testにのみ存在するカラムを見つける\n",
    "test_unique = test_columns - train_columns\n",
    "\n",
    "# 結果を表示\n",
    "print(\"Train unique columns:\", train_unique)\n",
    "print(\"Test unique columns:\", test_unique)"
   ]
  },
  {
   "cell_type": "code",
   "execution_count": 253,
   "metadata": {},
   "outputs": [],
   "source": [
    "# lgb_train = pd.read_csv('../data/train_lgb_predictions2.csv')\n",
    "# lgb_test = pd.read_csv('../data/test_lgb_predictions2.csv')\n",
    "\n",
    "# # cb_train = pd.read_csv('../data/train_cb_predictions.csv')\n",
    "# # cb_test = pd.read_csv('../data/test_cb_predictions.csv')\n",
    "\n",
    "# # rf_train = pd.read_csv('../data/Stacking/rf/train_rf_predictions.csv')\n",
    "# # rf_test = pd.read_csv('../data/Stacking/rf/test_rf_predictions.csv')\n",
    "\n",
    "# from functools import reduce\n",
    "\n",
    "# train = reduce(lambda left, right: pd.merge(left, right, on='ID'), [train, lgb_train])\n",
    "\n",
    "# test = reduce(lambda left, right: pd.merge(left, right, on='ID'), [test, lgb_test])"
   ]
  },
  {
   "cell_type": "code",
   "execution_count": null,
   "metadata": {},
   "outputs": [],
   "source": []
  },
  {
   "cell_type": "code",
   "execution_count": 254,
   "metadata": {},
   "outputs": [],
   "source": [
    "fixlist = ['DisbursementGross','GrAppv','SBA_Appv']\n",
    "\n",
    "for col in fixlist:\n",
    "    x = data[col] + 1\n",
    "    data[col] = np.log(x)"
   ]
  },
  {
   "cell_type": "code",
   "execution_count": 255,
   "metadata": {},
   "outputs": [],
   "source": [
    "X_train = train.drop('MIS_Status', axis=1)\n",
    "y_train = train['MIS_Status']"
   ]
  },
  {
   "cell_type": "code",
   "execution_count": 256,
   "metadata": {},
   "outputs": [],
   "source": [
    "category_features = ['City','State','BankState', 'Sector',  'NewExist','UrbanRural','RevLineCr', 'LowDoc','FranchiseFlag','IsSameState','Term_Cluster']\n",
    "\n",
    "all_features = X_train.columns.tolist()\n",
    "col_num = [feature for feature in all_features if feature not in category_features]\n",
    "col_num = [feature for feature in col_num if feature != 'MIS_Status']\n",
    "col_num = [feature for feature in col_num if feature != 'train']\n",
    "col_num = [feature for feature in col_num if feature != 'ID']\n",
    "for item in category_features:\n",
    "    X_train[item] = X_train[item].astype('object')"
   ]
  },
  {
   "cell_type": "code",
   "execution_count": 257,
   "metadata": {},
   "outputs": [],
   "source": [
    "low_cat_cols = [] # nunique が少ない変数\n",
    "high_cat_cols = [] # nunique が多い変数\n",
    "\n",
    "for c in category_features:\n",
    "    nunq = X_train[c].nunique()\n",
    "    if nunq>1:\n",
    "        high_cat_cols.append(c)\n",
    "    else:\n",
    "        low_cat_cols.append(c)"
   ]
  },
  {
   "cell_type": "code",
   "execution_count": 258,
   "metadata": {},
   "outputs": [
    {
     "name": "stdout",
     "output_type": "stream",
     "text": [
      "FranchiseFlag\n",
      "Done\n"
     ]
    }
   ],
   "source": [
    "#nunique数が少ない変数\n",
    "dict_low_cat = {}\n",
    "for col in low_cat_cols:\n",
    "    print(col)\n",
    "    value_fillna = 'unknown'\n",
    "    X_train[col] = X_train[col].fillna(value_fillna)\n",
    "    X_train[col] = X_train[col].astype(str)\n",
    "    \n",
    "    dict_low_cat[col] = {}\n",
    "    dict_low_cat[col]['fillna'] = value_fillna\n",
    "    \n",
    "X_train = pd.get_dummies(X_train, dummy_na=False, drop_first=False, columns=low_cat_cols)\n",
    "print('Done')"
   ]
  },
  {
   "cell_type": "code",
   "execution_count": 259,
   "metadata": {},
   "outputs": [
    {
     "name": "stdout",
     "output_type": "stream",
     "text": [
      "City\n",
      "State\n",
      "BankState\n",
      "Sector\n",
      "NewExist\n",
      "UrbanRural\n",
      "RevLineCr\n",
      "LowDoc\n",
      "IsSameState\n",
      "Term_Cluster\n",
      "Done\n"
     ]
    }
   ],
   "source": [
    "dict_high_cat = {}\n",
    "for col in high_cat_cols:\n",
    "    print(col)\n",
    "    value_fillna = 'unknown'\n",
    "    X_train[col] = X_train[col].fillna(value_fillna)\n",
    "    X_train[col] = X_train[col].astype(str)\n",
    "    # strに変換\n",
    "    le = LabelEncoder()\n",
    "    le.fit(X_train[col])\n",
    "    list_label = sorted(list(set(le.classes_) | set(['unknown'])))\n",
    "    # print(list_label)\n",
    "    map_label = {j:i for i,j in enumerate(list_label)}\n",
    "    X_train[col] = X_train[col].map(map_label)\n",
    "    # categorical_dims = len(le.classes_)\n",
    "\n",
    "    \n",
    "    dict_high_cat[col] = {}\n",
    "    dict_high_cat[col]['fillna'] = value_fillna\n",
    "    dict_high_cat[col]['map_label'] = map_label\n",
    "    dict_high_cat[col]['num_label'] = len(list_label)\n",
    "    \n",
    "\n",
    "print('Done')"
   ]
  },
  {
   "cell_type": "code",
   "execution_count": 260,
   "metadata": {},
   "outputs": [
    {
     "name": "stdout",
     "output_type": "stream",
     "text": [
      "Term\n",
      "NoEmp\n",
      "CreateJob\n",
      "RetainedJob\n",
      "FranchiseCode\n",
      "ApprovalFY\n",
      "DisbursementGross\n",
      "GrAppv\n",
      "SBA_Appv\n",
      "DisbursementYear\n",
      "DisbursementMonth\n",
      "DisbursementDay\n",
      "ApprovalYear\n",
      "ApprovalMonth\n",
      "ApprovalDay\n",
      "LoanProcessingPeriod\n",
      "LoanvsApprovedAmountDifference\n",
      "SBAGuaranteeRatio\n",
      "YearsSinceApproval\n",
      "Jobs_Created_per_Employee\n",
      "Jobs_Retained_per_Employee\n",
      "Loan_Amount_per_Employee\n",
      "BankStateCount\n",
      "CityCount\n",
      "SectorCount\n",
      "StateCount\n",
      "missing_values_count\n",
      "Latitude\n",
      "Longitude\n",
      "BankState_Latitude\n",
      "BankState_Longitude\n",
      "Done\n"
     ]
    }
   ],
   "source": [
    "\n",
    "dict_num = {}\n",
    "\n",
    "for col in col_num:\n",
    "    print(col)\n",
    "    # 欠損値を0へ\n",
    "    value_fillna = 0 \n",
    "    X_train[col] = X_train[col].fillna(value_fillna)\n",
    "    # 正規化または標準化\n",
    "    value_min = X_train[col].min()\n",
    "    value_max = X_train[col].max()\n",
    "    value_mean = X_train[col].mean()\n",
    "    value_std = X_train[col].std()\n",
    "    #train[col] = (train[col] - value_min) / (value_max - value_min)\n",
    "    X_train[col] = (X_train[col] - value_mean) / value_std\n",
    "    \n",
    "    dict_num[col] = {}\n",
    "    dict_num[col]['fillna'] = value_fillna\n",
    "    dict_num[col]['min'] = value_min\n",
    "    dict_num[col]['max'] = value_max\n",
    "    dict_num[col]['mean'] = value_mean    \n",
    "    dict_num[col]['std'] = value_std    \n",
    "    \n",
    "print('Done')"
   ]
  },
  {
   "cell_type": "code",
   "execution_count": 261,
   "metadata": {},
   "outputs": [],
   "source": [
    "for item in category_features:\n",
    "    test[item] = test[item].astype('object')"
   ]
  },
  {
   "cell_type": "code",
   "execution_count": 262,
   "metadata": {},
   "outputs": [],
   "source": [
    "# テストデータに対しての処理を関数化\n",
    "def transform_data(input_x):\n",
    "    output_x = input_x.copy()\n",
    "    \n",
    "    for col in col_num:\n",
    "        value_fillna = dict_num[col]['fillna']\n",
    "        output_x[col] = output_x[col].fillna(value_fillna)\n",
    "        \n",
    "        value_min = dict_num[col]['min']\n",
    "        value_max = dict_num[col]['max']\n",
    "        value_mean = dict_num[col]['mean']\n",
    "        value_std = dict_num[col]['std']\n",
    "        \n",
    "        # output_x[col]  = (output_x[col] - value_min ) / (value_max - value_min)\n",
    "        output_x[col]  = (output_x[col] - value_mean ) / (value_std)\n",
    "        \n",
    "        \n",
    "    for col in low_cat_cols:\n",
    "        value_fillna = dict_low_cat[col]['fillna']\n",
    "        output_x[col] = output_x[col].fillna(value_fillna)\n",
    "        \n",
    "        output_x[col] = output_x[col].astype(str)\n",
    "        \n",
    "    for col in high_cat_cols:\n",
    "        value_fillna = dict_high_cat[col]['fillna']\n",
    "        output_x[col] = output_x[col].fillna(value_fillna)\n",
    "        \n",
    "        output_x[col] = output_x[col].astype(str)\n",
    "        \n",
    "        map_label = dict_high_cat[col]['map_label']\n",
    "        output_x[col] = output_x[col].map(map_label)\n",
    "        \n",
    "        #対応するものがない場合はunkoumn\n",
    "        output_x[col] = output_x[col].fillna(map_label['unknown'])\n",
    "        \n",
    "    output_x = pd.get_dummies(output_x, dummy_na=False, drop_first=False, columns=low_cat_cols)\n",
    "        \n",
    "    return output_x\n",
    "\n",
    "x_test = transform_data(test)"
   ]
  },
  {
   "cell_type": "code",
   "execution_count": 263,
   "metadata": {},
   "outputs": [
    {
     "name": "stdout",
     "output_type": "stream",
     "text": [
      "学習用データ: (42307, 43),  学習ラベル：(42307,), テストデータ：(42308, 43)\n",
      "陽性ラベルの割合: 0.8926891530952324\n"
     ]
    }
   ],
   "source": [
    "print('学習用データ: {},  学習ラベル：{}, テストデータ：{}'.format(\n",
    "    X_train.shape, y_train.shape,  x_test.shape))\n",
    "\n",
    "print('陽性ラベルの割合: {}'.format(\n",
    "    y_train.value_counts()[1]  / len(train)))"
   ]
  },
  {
   "cell_type": "code",
   "execution_count": 264,
   "metadata": {},
   "outputs": [],
   "source": [
    "from torch.nn import CrossEntropyLoss\n",
    "#不均衡データ用の重み\n",
    "from sklearn.utils import class_weight\n",
    "\n",
    "class_weights = list(class_weight.compute_class_weight('balanced', \n",
    "                                                        classes=np.unique(y_train),\n",
    "                                                        y=y_train)\n",
    "                        )\n",
    "weights = torch.from_numpy(np.array(class_weights)).float()\n",
    "\n",
    "# lossを指定し重みを加える 重み無しならLossはNone\n",
    "cross_entropy_loss_wight = CrossEntropyLoss(weight=weights)"
   ]
  },
  {
   "cell_type": "code",
   "execution_count": 265,
   "metadata": {},
   "outputs": [],
   "source": [
    "cat_idxs = [ i for i, f in enumerate(X_train) if f in high_cat_cols]# 特徴量の中のembeddingしたい番号\n",
    "cat_dims = [dict_high_cat[i]['num_label'] for i in high_cat_cols]# embeddingしたい特徴量のlabel数"
   ]
  },
  {
   "cell_type": "code",
   "execution_count": 266,
   "metadata": {},
   "outputs": [],
   "source": [
    "# TabNetPretrainer\n",
    "unsupervised_model = TabNetPretrainer(\n",
    "    # cat_idxs=cat_idxs,\n",
    "    # cat_dims=cat_dims,\n",
    "    # cat_emb_dim=3,\n",
    "    optimizer_fn=torch.optim.Adam,\n",
    "    optimizer_params=dict(lr=2e-2),\n",
    "    mask_type='entmax', # \"sparsemax\",\n",
    "    n_shared_decoder=1, # nb shared glu for decoding\n",
    "    n_indep_decoder=1, # nb independent glu for decoding\n",
    "#     grouped_features=[[0, 1]], # you can group features together here\n",
    "    verbose=5,\n",
    ")"
   ]
  },
  {
   "cell_type": "code",
   "execution_count": 267,
   "metadata": {},
   "outputs": [],
   "source": [
    "# idを別のdfに、\n",
    "id_train = X_train[['ID']]\n",
    "X_train = X_train.drop(['ID'], axis=1)\n",
    "\n",
    "id_test = x_test[id_train.columns]\n",
    "x_test = x_test.drop(['ID'], axis=1)"
   ]
  },
  {
   "cell_type": "code",
   "execution_count": 268,
   "metadata": {},
   "outputs": [
    {
     "name": "stdout",
     "output_type": "stream",
     "text": [
      "訓練データ:  (33845, 42) (33845,)\n",
      "検証データ:  (8462, 42) (8462,)\n"
     ]
    }
   ],
   "source": [
    "random_state = 810\n",
    "\n",
    "x_tr, x_va, y_tr, y_va = train_test_split(X_train,\n",
    "                                           y_train,\n",
    "                                           test_size=0.2,\n",
    "                                           shuffle=True,\n",
    "                                           stratify=y_train,\n",
    "                                           random_state=random_state)\n",
    "y_tr=np.squeeze(y_tr.values)\n",
    "y_va=np.squeeze(y_va.values)\n",
    "x_tr=x_tr.values\n",
    "x_va=x_va.values\n",
    "\n",
    "print('訓練データ: ',x_tr.shape, y_tr.shape)\n",
    "print('検証データ: ',x_va.shape, y_va.shape)"
   ]
  },
  {
   "cell_type": "code",
   "execution_count": 222,
   "metadata": {},
   "outputs": [
    {
     "name": "stdout",
     "output_type": "stream",
     "text": [
      "epoch 0  | loss: 2.682   | val_0_unsup_loss_numpy: 1.4865700006484985|  0:00:01s\n",
      "epoch 5  | loss: 1.00299 | val_0_unsup_loss_numpy: 0.9562000036239624|  0:00:09s\n",
      "epoch 10 | loss: 0.93415 | val_0_unsup_loss_numpy: 0.8875899910926819|  0:00:16s\n",
      "epoch 15 | loss: 0.90385 | val_0_unsup_loss_numpy: 0.8371400237083435|  0:00:24s\n",
      "epoch 20 | loss: 0.87742 | val_0_unsup_loss_numpy: 0.80690997838974|  0:00:33s\n",
      "epoch 25 | loss: 0.85191 | val_0_unsup_loss_numpy: 0.7859100103378296|  0:00:42s\n",
      "epoch 30 | loss: 0.84518 | val_0_unsup_loss_numpy: 0.7719900012016296|  0:00:51s\n",
      "epoch 35 | loss: 0.8364  | val_0_unsup_loss_numpy: 0.7574700117111206|  0:00:59s\n",
      "epoch 40 | loss: 0.82073 | val_0_unsup_loss_numpy: 0.7394499778747559|  0:01:07s\n",
      "epoch 45 | loss: 0.80746 | val_0_unsup_loss_numpy: 0.7189599871635437|  0:01:15s\n",
      "epoch 50 | loss: 0.79741 | val_0_unsup_loss_numpy: 0.697409987449646|  0:01:23s\n",
      "epoch 55 | loss: 0.78282 | val_0_unsup_loss_numpy: 0.6893200278282166|  0:01:31s\n",
      "epoch 60 | loss: 0.77625 | val_0_unsup_loss_numpy: 0.6717399954795837|  0:01:41s\n",
      "epoch 65 | loss: 0.75729 | val_0_unsup_loss_numpy: 0.6603800058364868|  0:01:50s\n",
      "epoch 70 | loss: 0.74669 | val_0_unsup_loss_numpy: 0.648930013179779|  0:02:01s\n",
      "epoch 75 | loss: 0.73749 | val_0_unsup_loss_numpy: 0.6459500193595886|  0:02:10s\n",
      "\n",
      "Early stopping occurred at epoch 76 with best_epoch = 71 and best_val_0_unsup_loss_numpy = 0.6449400186538696\n"
     ]
    }
   ],
   "source": [
    "unsupervised_model.fit(\n",
    "    X_train=x_tr,\n",
    "    eval_set=[x_va],\n",
    "    max_epochs=100, \n",
    "    patience=5,\n",
    "    batch_size=2048, \n",
    "    virtual_batch_size=128,\n",
    "    num_workers=0,\n",
    "    drop_last=False,\n",
    "    pretraining_ratio=0.5,\n",
    ") "
   ]
  },
  {
   "cell_type": "code",
   "execution_count": 223,
   "metadata": {},
   "outputs": [
    {
     "name": "stdout",
     "output_type": "stream",
     "text": [
      "Successfully saved model at ./model/tabnet/pretrain.zip\n"
     ]
    }
   ],
   "source": [
    "# 保存して使い回す\n",
    "unsupervised_model.save_model('./model/tabnet/pretrain')\n",
    "loaded_pretrain = TabNetPretrainer()\n",
    "loaded_pretrain.load_model('./model/tabnet/pretrain.zip')"
   ]
  },
  {
   "cell_type": "code",
   "execution_count": 224,
   "metadata": {},
   "outputs": [],
   "source": [
    "# import torch\n",
    "# import pandas as pd\n",
    "\n",
    "# def objective(trial):\n",
    "#     mask_type = trial.suggest_categorical(\"mask_type\", [\"entmax\", \"sparsemax\"])\n",
    "#     n_da = trial.suggest_int(\"n_da\", 8, 64, step=8)\n",
    "#     n_steps = trial.suggest_int(\"n_steps\", 1, 10, step=3)\n",
    "#     gamma = trial.suggest_float(\"gamma\", 1.0, 2.0, step=0.2)\n",
    "#     n_shared = trial.suggest_int(\"n_shared\", 1, 3)\n",
    "#     lambda_sparse = trial.suggest_float(\"lambda_sparse\", 1e-6, 1e-3, log=True)\n",
    "\n",
    "#     tabnet_params = dict(\n",
    "#         n_d=n_da, n_a=n_da, n_steps=n_steps, gamma=gamma,\n",
    "#         lambda_sparse=lambda_sparse, mask_type=mask_type, n_shared=n_shared,\n",
    "#         optimizer_fn=torch.optim.Adam,\n",
    "#         optimizer_params=dict(lr=2e-2, weight_decay=1e-5),\n",
    "#         scheduler_params=dict(\n",
    "#             mode=\"min\", patience=10,\n",
    "#             scheduler_fn=torch.optim.lr_scheduler.ReduceLROnPlateau,\n",
    "#             verbose=0,\n",
    "#         )\n",
    "#     )\n",
    "\n",
    "#     model = TabNetClassifier(**tabnet_params)\n",
    "#     model.fit(\n",
    "#         X_train=x_tr, y_train=y_tr,\n",
    "#         eval_set=[(x_va, y_va)],\n",
    "#         patience=15,\n",
    "#         max_epochs=100,\n",
    "#         eval_metric=[F1ScoreMacro]\n",
    "#     )\n",
    "    \n",
    "    \n",
    "# study = optuna.create_study(direction='maximize')\n",
    "# study.optimize(objective, n_trials=100)\n",
    "\n",
    "# # 最適なパラメータを表示\n",
    "# print(study.best_params)"
   ]
  },
  {
   "cell_type": "code",
   "execution_count": 225,
   "metadata": {},
   "outputs": [],
   "source": [
    "random_state = 123\n",
    "params = {\n",
    "            'n_d': 32, #値が大きいほど表現力と過学習のリスクがあがる\n",
    "            'n_a': 32, # n_dと同じ値にしておくのが良いらしい\n",
    "            'n_steps': 1,#TabNetEncoderのstepを何回繰り返すか\n",
    "            'gamma': 1.0,\n",
    "            'n_independent': 2,\n",
    "            'n_shared': 2,\n",
    "            'seed':random_state,\n",
    "            'lambda_sparse': 1.6947238775293536e-06,\n",
    "            'optimizer_fn': torch.optim.Adam, \n",
    "            'optimizer_params': {'lr':2e-2},\n",
    "            'mask_type': 'sparsemax',#AttentiveTransformerでマスク作るのにどっちの関数を使うか'sparsemax'or'entmax'\n",
    "            'scheduler_params':{'mode': \"min\",'patience': 5,'min_lr': 1e-5,'factor': 0.9},\n",
    "            'scheduler_fn': torch.optim.lr_scheduler.ReduceLROnPlateau,\n",
    "            'cat_idxs':cat_idxs,\n",
    "            'cat_dims':cat_dims,\n",
    "            'cat_emb_dim':3,\n",
    "            'verbose':10\n",
    "        }"
   ]
  },
  {
   "cell_type": "code",
   "execution_count": 226,
   "metadata": {},
   "outputs": [],
   "source": [
    "\n",
    "\n",
    "# cvでの評価用\n",
    "def train_tabnet(\n",
    "    input_x,\n",
    "    input_y,\n",
    "    input_id,\n",
    "    params,\n",
    "    list_nfold=[0,1,2,3,4],\n",
    "    n_splits=5,\n",
    "    random_state=123\n",
    "            ):\n",
    "    # foldごとの推論値保存用\n",
    "    train_oof = np.zeros(len(input_x))\n",
    "    metrics = []\n",
    "    imp = pd.DataFrame()\n",
    "\n",
    "    cv = list(StratifiedKFold(n_splits=n_splits, shuffle=True, random_state=random_state).split(input_x, input_y ))\n",
    "    for  nfold in list_nfold :\n",
    "        print('-'*20, nfold, '-'*20)\n",
    "        \n",
    "        idx_tr, idx_va = cv[nfold][0], cv[nfold][1]\n",
    "        x_tr, y_tr = input_x.iloc[idx_tr], input_y.iloc[idx_tr]\n",
    "        x_va, y_va = input_x.iloc[idx_va], input_y.iloc[idx_va]\n",
    "        \n",
    "        y_tr=np.squeeze(y_tr.values)\n",
    "        y_va=np.squeeze(y_va.values)\n",
    "        x_tr=x_tr.values\n",
    "        x_va=x_va.values\n",
    "        \n",
    "        model = TabNetClassifier(**params)\n",
    "        model.fit(\n",
    "            X_train=x_tr,\n",
    "            y_train=y_tr,\n",
    "            eval_set=[(x_va, y_va)],\n",
    "            eval_name = [\"valid\"],\n",
    "            eval_metric = [F1ScoreMacro],\n",
    "            loss_fn = cross_entropy_loss_wight,#重み付きのloss,重みが不要ならNoneで\n",
    "            max_epochs=200,\n",
    "            patience=20, \n",
    "            batch_size=2048,\n",
    "            virtual_batch_size=128,\n",
    "            num_workers=0, \n",
    "            drop_last=False,\n",
    "            from_unsupervised=loaded_pretrain,# 事前学習モデルを指定\n",
    "        )\n",
    "        \n",
    "        # モデルの保存\n",
    "        fname_tabnet = 'model/tabnet/model_tabnet_fold{}.pickle'.format(nfold)\n",
    "        with open(fname_tabnet, 'wb')as f:\n",
    "            pickle.dump(model, f, protocol=4)\n",
    "            \n",
    "            \n",
    "        # 評価\n",
    "        y_tr_pred = model.predict_proba(x_tr)[:,1]\n",
    "        y_va_pred = model.predict_proba(x_va)[:,1]\n",
    "        metric_tr = roc_auc_score(y_tr, y_tr_pred)\n",
    "        metric_va = roc_auc_score(y_va, y_va_pred)\n",
    "        metrics.append([nfold, metric_tr, metric_va])\n",
    "        \n",
    "        # oof\n",
    "        train_oof[idx_va] = y_va_pred\n",
    "        \n",
    "         # imp\n",
    "        _imp = pd.DataFrame({'col':input_x.columns, 'imp':model.feature_importances_,'nfold':nfold})\n",
    "        imp = pd.concat([imp, _imp], axis=0, ignore_index=False)\n",
    "    \n",
    "    # metrix出力\n",
    "    metrics = np.array(metrics)\n",
    "    # oof出力  \n",
    "    train_oof = pd.concat([\n",
    "        input_id,\n",
    "        pd.DataFrame({'pred':train_oof})]\n",
    "        ,axis=1)\n",
    "    \n",
    "        # imp出力\n",
    "    imp = imp.groupby('col')['imp'].agg(['mean', 'std']).reset_index(drop=False)\n",
    "    imp.columns = ['col', 'imp', 'imp_std']\n",
    "\n",
    "    print('Done')\n",
    "    \n",
    "    return train_oof, imp, metrics"
   ]
  },
  {
   "cell_type": "code",
   "execution_count": 227,
   "metadata": {},
   "outputs": [
    {
     "name": "stdout",
     "output_type": "stream",
     "text": [
      "-------------------- 0 --------------------\n"
     ]
    },
    {
     "name": "stdout",
     "output_type": "stream",
     "text": [
      "epoch 0  | loss: 0.81636 | valid_f1_score_macro: 0.3757  |  0:00:01s\n",
      "epoch 10 | loss: 0.57968 | valid_f1_score_macro: 0.50279 |  0:00:18s\n",
      "epoch 20 | loss: 0.56018 | valid_f1_score_macro: 0.59294 |  0:00:34s\n",
      "epoch 30 | loss: 0.54182 | valid_f1_score_macro: 0.58531 |  0:00:50s\n",
      "epoch 40 | loss: 0.52894 | valid_f1_score_macro: 0.56566 |  0:01:07s\n",
      "epoch 50 | loss: 0.508   | valid_f1_score_macro: 0.56491 |  0:01:29s\n",
      "\n",
      "Early stopping occurred at epoch 56 with best_epoch = 36 and best_valid_f1_score_macro = 0.5965\n",
      "-------------------- 1 --------------------\n",
      "epoch 0  | loss: 0.80799 | valid_f1_score_macro: 0.40114 |  0:00:02s\n",
      "epoch 10 | loss: 0.57979 | valid_f1_score_macro: 0.55477 |  0:00:21s\n",
      "epoch 20 | loss: 0.55526 | valid_f1_score_macro: 0.59526 |  0:00:39s\n",
      "epoch 30 | loss: 0.53879 | valid_f1_score_macro: 0.57496 |  0:01:02s\n",
      "epoch 40 | loss: 0.5229  | valid_f1_score_macro: 0.56832 |  0:01:21s\n",
      "\n",
      "Early stopping occurred at epoch 40 with best_epoch = 20 and best_valid_f1_score_macro = 0.59526\n",
      "-------------------- 2 --------------------\n",
      "epoch 0  | loss: 0.81653 | valid_f1_score_macro: 0.40008 |  0:00:01s\n",
      "epoch 10 | loss: 0.57757 | valid_f1_score_macro: 0.5499  |  0:00:21s\n",
      "epoch 20 | loss: 0.55415 | valid_f1_score_macro: 0.57749 |  0:00:40s\n",
      "epoch 30 | loss: 0.53577 | valid_f1_score_macro: 0.59505 |  0:01:00s\n",
      "epoch 40 | loss: 0.51365 | valid_f1_score_macro: 0.5826  |  0:01:20s\n",
      "epoch 50 | loss: 0.49784 | valid_f1_score_macro: 0.56828 |  0:01:39s\n",
      "\n",
      "Early stopping occurred at epoch 50 with best_epoch = 30 and best_valid_f1_score_macro = 0.59505\n",
      "-------------------- 3 --------------------\n",
      "epoch 0  | loss: 0.82646 | valid_f1_score_macro: 0.34725 |  0:00:01s\n",
      "epoch 10 | loss: 0.57718 | valid_f1_score_macro: 0.57171 |  0:00:21s\n",
      "epoch 20 | loss: 0.55393 | valid_f1_score_macro: 0.59287 |  0:00:41s\n",
      "epoch 30 | loss: 0.53241 | valid_f1_score_macro: 0.59886 |  0:01:00s\n",
      "epoch 40 | loss: 0.51703 | valid_f1_score_macro: 0.59292 |  0:01:21s\n",
      "epoch 50 | loss: 0.50288 | valid_f1_score_macro: 0.56415 |  0:01:41s\n",
      "\n",
      "Early stopping occurred at epoch 50 with best_epoch = 30 and best_valid_f1_score_macro = 0.59886\n",
      "-------------------- 4 --------------------\n",
      "epoch 0  | loss: 0.83497 | valid_f1_score_macro: 0.39666 |  0:00:02s\n",
      "epoch 10 | loss: 0.57947 | valid_f1_score_macro: 0.56258 |  0:00:22s\n",
      "epoch 20 | loss: 0.55545 | valid_f1_score_macro: 0.57894 |  0:00:42s\n",
      "epoch 30 | loss: 0.53367 | valid_f1_score_macro: 0.58323 |  0:01:04s\n",
      "\n",
      "Early stopping occurred at epoch 35 with best_epoch = 15 and best_valid_f1_score_macro = 0.58389\n",
      "Done\n"
     ]
    }
   ],
   "source": [
    "train_oof, imp, metrics = train_tabnet(X_train, \n",
    "                                       y_train,\n",
    "                                       id_train,\n",
    "                                       params,\n",
    "                                       list_nfold=[0,1,2,3,4], \n",
    "                                       n_splits=5, \n",
    "                                       random_state=123\n",
    "                                      )"
   ]
  },
  {
   "cell_type": "code",
   "execution_count": 228,
   "metadata": {},
   "outputs": [
    {
     "name": "stdout",
     "output_type": "stream",
     "text": [
      "[[ 2755  1785]\n",
      " [ 8800 28967]]\n"
     ]
    }
   ],
   "source": [
    "print(confusion_matrix(y_train, np.where(train_oof['pred']>0.5,1,0)))"
   ]
  },
  {
   "cell_type": "code",
   "execution_count": 229,
   "metadata": {},
   "outputs": [
    {
     "data": {
      "text/html": [
       "<div>\n",
       "<style scoped>\n",
       "    .dataframe tbody tr th:only-of-type {\n",
       "        vertical-align: middle;\n",
       "    }\n",
       "\n",
       "    .dataframe tbody tr th {\n",
       "        vertical-align: top;\n",
       "    }\n",
       "\n",
       "    .dataframe thead th {\n",
       "        text-align: right;\n",
       "    }\n",
       "</style>\n",
       "<table border=\"1\" class=\"dataframe\">\n",
       "  <thead>\n",
       "    <tr style=\"text-align: right;\">\n",
       "      <th></th>\n",
       "      <th>ID</th>\n",
       "      <th>pred</th>\n",
       "    </tr>\n",
       "  </thead>\n",
       "  <tbody>\n",
       "    <tr>\n",
       "      <th>0</th>\n",
       "      <td>0</td>\n",
       "      <td>0.863651</td>\n",
       "    </tr>\n",
       "    <tr>\n",
       "      <th>1</th>\n",
       "      <td>1</td>\n",
       "      <td>0.725294</td>\n",
       "    </tr>\n",
       "    <tr>\n",
       "      <th>2</th>\n",
       "      <td>2</td>\n",
       "      <td>0.856004</td>\n",
       "    </tr>\n",
       "    <tr>\n",
       "      <th>3</th>\n",
       "      <td>3</td>\n",
       "      <td>0.745082</td>\n",
       "    </tr>\n",
       "    <tr>\n",
       "      <th>4</th>\n",
       "      <td>4</td>\n",
       "      <td>0.800358</td>\n",
       "    </tr>\n",
       "    <tr>\n",
       "      <th>...</th>\n",
       "      <td>...</td>\n",
       "      <td>...</td>\n",
       "    </tr>\n",
       "    <tr>\n",
       "      <th>42302</th>\n",
       "      <td>42302</td>\n",
       "      <td>0.932553</td>\n",
       "    </tr>\n",
       "    <tr>\n",
       "      <th>42303</th>\n",
       "      <td>42303</td>\n",
       "      <td>0.653387</td>\n",
       "    </tr>\n",
       "    <tr>\n",
       "      <th>42304</th>\n",
       "      <td>42304</td>\n",
       "      <td>0.647115</td>\n",
       "    </tr>\n",
       "    <tr>\n",
       "      <th>42305</th>\n",
       "      <td>42305</td>\n",
       "      <td>0.951103</td>\n",
       "    </tr>\n",
       "    <tr>\n",
       "      <th>42306</th>\n",
       "      <td>42306</td>\n",
       "      <td>0.859173</td>\n",
       "    </tr>\n",
       "  </tbody>\n",
       "</table>\n",
       "<p>42307 rows × 2 columns</p>\n",
       "</div>"
      ],
      "text/plain": [
       "          ID      pred\n",
       "0          0  0.863651\n",
       "1          1  0.725294\n",
       "2          2  0.856004\n",
       "3          3  0.745082\n",
       "4          4  0.800358\n",
       "...      ...       ...\n",
       "42302  42302  0.932553\n",
       "42303  42303  0.653387\n",
       "42304  42304  0.647115\n",
       "42305  42305  0.951103\n",
       "42306  42306  0.859173\n",
       "\n",
       "[42307 rows x 2 columns]"
      ]
     },
     "execution_count": 229,
     "metadata": {},
     "output_type": "execute_result"
    }
   ],
   "source": [
    "train_oof"
   ]
  },
  {
   "cell_type": "code",
   "execution_count": 230,
   "metadata": {},
   "outputs": [
    {
     "data": {
      "text/plain": [
       "<matplotlib.legend.Legend at 0x2066201cbe0>"
      ]
     },
     "execution_count": 230,
     "metadata": {},
     "output_type": "execute_result"
    },
    {
     "data": {
      "image/png": "[encoded data removed]",
      "text/plain": [
       "<Figure size 500x300 with 1 Axes>"
      ]
     },
     "metadata": {},
     "output_type": "display_data"
    }
   ],
   "source": [
    "fig = plt.figure(figsize=(5,3))\n",
    "\n",
    "plt.title('validation_data')\n",
    "plt.hist(train_oof['pred'][np.array(y_train).reshape(-1)==1], bins=10, alpha=0.5, label='1')\n",
    "plt.hist(train_oof['pred'][np.array(y_train).reshape(-1)==0], bins=10, alpha=0.5, label='0')\n",
    "\n",
    "plt.grid()\n",
    "plt.legend()"
   ]
  },
  {
   "cell_type": "code",
   "execution_count": 231,
   "metadata": {},
   "outputs": [],
   "source": [
    "def predict_tabnet(input_x,\n",
    "                   input_id,\n",
    "               list_nfold=[0,1,2,3,4],\n",
    "               ):\n",
    "    pred = np.zeros((len(input_x), len(list_nfold)))\n",
    "    for nfold in list_nfold:\n",
    "        print('-'*20, nfold, '-'*20)\n",
    "        fname_tabnet = 'model/tabnet/model_tabnet_fold{}.pickle'.format(nfold)\n",
    "        with open(fname_tabnet, 'rb')as f:\n",
    "            model = pickle.load(f)\n",
    "        pred[:,nfold] = model.predict_proba(input_x.values)[:,1]\n",
    "        \n",
    "    pred = pd.concat([\n",
    "        input_id,\n",
    "        pd.DataFrame({'target_label':pred.mean(axis=1)}),], axis=1)\n",
    "    \n",
    "    print('Done')\n",
    "    \n",
    "    return pred"
   ]
  },
  {
   "cell_type": "code",
   "execution_count": 232,
   "metadata": {},
   "outputs": [
    {
     "name": "stdout",
     "output_type": "stream",
     "text": [
      "Train unique columns: set()\n",
      "Test unique columns: set()\n"
     ]
    }
   ],
   "source": [
    "# trainとtestのカラムをセットとして取得\n",
    "train_columns = set(X_train.columns)\n",
    "test_columns = set(x_test.columns)\n",
    "\n",
    "# trainにのみ存在するカラムを見つける\n",
    "train_unique = train_columns - test_columns\n",
    "\n",
    "# testにのみ存在するカラムを見つける\n",
    "test_unique = test_columns - train_columns\n",
    "\n",
    "# 結果を表示\n",
    "print(\"Train unique columns:\", train_unique)\n",
    "print(\"Test unique columns:\", test_unique)"
   ]
  },
  {
   "cell_type": "code",
   "execution_count": 233,
   "metadata": {},
   "outputs": [],
   "source": [
    "test_pred_proba = pd.DataFrame()"
   ]
  },
  {
   "cell_type": "code",
   "execution_count": 234,
   "metadata": {},
   "outputs": [
    {
     "name": "stdout",
     "output_type": "stream",
     "text": [
      "-------------------- 0 --------------------\n"
     ]
    },
    {
     "name": "stdout",
     "output_type": "stream",
     "text": [
      "-------------------- 1 --------------------\n",
      "-------------------- 2 --------------------\n",
      "-------------------- 3 --------------------\n",
      "-------------------- 4 --------------------\n",
      "Done\n"
     ]
    }
   ],
   "source": [
    "test_pred_proba = predict_tabnet(\n",
    "        x_test,\n",
    "        id_test,\n",
    "        list_nfold=[0,1,2,3,4],\n",
    "        )"
   ]
  },
  {
   "cell_type": "code",
   "execution_count": 235,
   "metadata": {},
   "outputs": [],
   "source": [
    "# 'target' 列でNaNを含む行を削除\n",
    "test_pred_proba = test_pred_proba.dropna(subset=['target_label'])"
   ]
  },
  {
   "cell_type": "code",
   "execution_count": 236,
   "metadata": {},
   "outputs": [
    {
     "name": "stdout",
     "output_type": "stream",
     "text": [
      "0 の割合: 0.10629195424033278\n",
      "1 の割合: 0.8937080457596672\n"
     ]
    }
   ],
   "source": [
    "# 閾値を設定\n",
    "threshold = 0.345\n",
    "\n",
    "# 予測確率を0か1に変換\n",
    "test_predictions = np.where(test_pred_proba['target_label'] >= threshold, 1, 0)\n",
    "\n",
    "# 1 の割合を計算\n",
    "ones_ratio = np.mean(test_predictions)\n",
    "\n",
    "# 0 の割合を計算\n",
    "zeros_ratio = 1 - ones_ratio\n",
    "\n",
    "print(f\"0 の割合: {zeros_ratio}\")\n",
    "print(f\"1 の割合: {ones_ratio}\")"
   ]
  },
  {
   "cell_type": "code",
   "execution_count": 237,
   "metadata": {},
   "outputs": [
    {
     "data": {
      "text/plain": [
       "array([0, 0, 1, ..., 1, 1, 1])"
      ]
     },
     "execution_count": 237,
     "metadata": {},
     "output_type": "execute_result"
    }
   ],
   "source": [
    "test_predictions"
   ]
  },
  {
   "cell_type": "code",
   "execution_count": 238,
   "metadata": {},
   "outputs": [],
   "source": [
    "from datetime import datetime\n",
    "\n",
    "# 現在の日付と時間を取得して、指定のフォーマットに変換\n",
    "current_datetime = datetime.now().strftime('%Y%m%d_%H%M%S')\n",
    "\n",
    "submit = pd.read_csv('../data/sample_submission.csv', header=None)\n",
    "\n",
    "submit.iloc[:, 1] = test_predictions\n",
    "filename = f'TabNet_Stacking_cb_lgb_{current_datetime}'\n",
    "\n",
    "submit.to_csv('outputs/' + filename + '.csv', index=False,header=None)"
   ]
  },
  {
   "cell_type": "code",
   "execution_count": 239,
   "metadata": {},
   "outputs": [
    {
     "data": {
      "image/png": "[encoded data removed]",
      "text/plain": [
       "<Figure size 1000x600 with 1 Axes>"
      ]
     },
     "metadata": {},
     "output_type": "display_data"
    }
   ],
   "source": [
    "import matplotlib.pyplot as plt\n",
    "import seaborn as sns\n",
    "\n",
    "\n",
    "\n",
    "fname_tabnet = 'model/tabnet/model_tabnet_fold{}.pickle'.format(0)\n",
    "with open(fname_tabnet, 'rb')as f:\n",
    "    model = pickle.load(f)\n",
    "            \n",
    "# 特徴の重要度を取得\n",
    "importances = model.feature_importances_\n",
    "\n",
    "# 特徴とその重要度を組み合わせる\n",
    "features_importances = zip(all_features, importances)\n",
    "features_importances = sorted(features_importances, key = lambda x: x[1], reverse=True)\n",
    "\n",
    "# 特徴名と重要度をそれぞれのリストに分ける\n",
    "sorted_features = [feature for feature, importance in features_importances]\n",
    "sorted_importances = [importance for feature, importance in features_importances]\n",
    "\n",
    "# グラフを作成\n",
    "plt.figure(figsize=(10, 6))\n",
    "sns.barplot(x=sorted_importances, y=sorted_features)\n",
    "plt.title('Feature Importances')\n",
    "plt.xlabel('Importance')\n",
    "plt.ylabel('Feature')\n",
    "plt.show()"
   ]
  },
  {
   "cell_type": "code",
   "execution_count": 240,
   "metadata": {},
   "outputs": [
    {
     "name": "stdout",
     "output_type": "stream",
     "text": [
      "accuracy_score, precision_score, recall_score, f1_score, roc_auc_score\n",
      "0.75, 0.942, 0.767, 0.846, 0.746\n"
     ]
    }
   ],
   "source": [
    "from sklearn.metrics import accuracy_score, precision_score, recall_score, f1_score, roc_auc_score\n",
    "import warnings\n",
    "\n",
    "print('accuracy_score, precision_score, recall_score, f1_score, roc_auc_score')\n",
    "y_pred_binary = np.where(train_oof['pred'] > 0.5, 1, 0)  # 0.5が閾値\n",
    "\n",
    "# スコア関数の修正\n",
    "score_funcs = [\n",
    "    accuracy_score, \n",
    "    lambda y_true, y_pred: precision_score(y_true, y_pred, average='binary'), \n",
    "    lambda y_true, y_pred: recall_score(y_true, y_pred, average='binary'),\n",
    "    lambda y_true, y_pred: f1_score(y_true, y_pred, average='binary'),\n",
    "    roc_auc_score  # この関数は確率をそのまま使用\n",
    "]\n",
    "\n",
    "# スコアの計算（roc_auc_score以外はy_pred_binaryを使用）\n",
    "scores = [\n",
    "    round(f(y_train, y_pred_binary if f != roc_auc_score else train_oof['pred']), 3)\n",
    "    for f in score_funcs\n",
    "]\n",
    "\n",
    "print(', '.join(map(str, scores)))"
   ]
  },
  {
   "cell_type": "code",
   "execution_count": 241,
   "metadata": {},
   "outputs": [
    {
     "data": {
      "image/png": "[encoded data removed]",
      "text/plain": [
       "<Figure size 640x480 with 1 Axes>"
      ]
     },
     "metadata": {},
     "output_type": "display_data"
    }
   ],
   "source": [
    "from sklearn.metrics import roc_curve, auc\n",
    "import matplotlib.pyplot as plt\n",
    "\n",
    "# FPR, TPR, およびしきい値を計算する\n",
    "fpr, tpr, thresholds = roc_curve(y_train, train_oof['pred'])\n",
    "\n",
    "# AUC（Area Under Curve）を計算する\n",
    "roc_auc = auc(fpr, tpr)\n",
    "\n",
    "# ROC曲線をプロットする\n",
    "plt.figure()\n",
    "plt.plot(fpr, tpr, color='darkorange', lw=2, label='ROC curve (area = %0.2f)' % roc_auc)\n",
    "plt.plot([0, 1], [0, 1], color='navy', lw=2, linestyle='--')\n",
    "plt.xlim([0.0, 1.0])\n",
    "plt.ylim([0.0, 1.05])\n",
    "plt.xlabel('False Positive Rate')\n",
    "plt.ylabel('True Positive Rate')\n",
    "plt.title('Receiver Operating Characteristic')\n",
    "plt.legend(loc=\"lower right\")\n",
    "plt.show()"
   ]
  }
 ],
 "metadata": {
  "kernelspec": {
   "display_name": "Python 3",
   "language": "python",
   "name": "python3"
  },
  "language_info": {
   "codemirror_mode": {
    "name": "ipython",
    "version": 3
   },
   "file_extension": ".py",
   "mimetype": "text/x-python",
   "name": "python",
   "nbconvert_exporter": "python",
   "pygments_lexer": "ipython3",
   "version": "3.10.7"
  }
 },
 "nbformat": 4,
 "nbformat_minor": 2
}
