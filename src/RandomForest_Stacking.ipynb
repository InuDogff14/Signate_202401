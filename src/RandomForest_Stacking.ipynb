{
 "cells": [
  {
   "cell_type": "code",
   "execution_count": 52,
   "metadata": {},
   "outputs": [],
   "source": [
    "import pandas as pd\n",
    "import numpy as np\n",
    "from preprocess import base_data\n",
    "from pathlib import Path\n",
    "import hydra\n",
    "import yaml\n",
    "import lightgbm as lgb\n",
    "from sklearn.model_selection import train_test_split\n",
    "from sklearn.metrics import confusion_matrix, classification_report\n",
    "from sklearn.metrics import roc_auc_score\n",
    "from sklearn.model_selection import cross_val_score\n",
    "import optuna\n",
    "import os\n",
    "from sklearn.metrics import log_loss\n",
    "from imblearn.under_sampling import RandomUnderSampler\n",
    "from sklearn.model_selection import StratifiedKFold\n",
    "from sklearn.metrics import accuracy_score, precision_score, recall_score, f1_score, roc_auc_score\n",
    "from sklearn.preprocessing import LabelEncoder\n",
    "import catboost as cb\n",
    "\n",
    "pd.set_option('display.max_columns', None)\n"
   ]
  },
  {
   "cell_type": "code",
   "execution_count": 53,
   "metadata": {},
   "outputs": [],
   "source": [
    "file_path = '../config/config.yaml'\n",
    "\n",
    "# ファイルを開いて内容を読み込む\n",
    "with open(file_path, 'r', encoding='utf-8') as file:\n",
    "    yaml = yaml.safe_load(file)\n",
    "\n",
    "# featuresリストを取得\n",
    "features = yaml.get('features', [])\n",
    "\n",
    "data = [pd.read_pickle(f\"../features/{f}.pkl\") for f in features]\n",
    "data = pd.concat(data, axis=1)"
   ]
  },
  {
   "cell_type": "code",
   "execution_count": 54,
   "metadata": {},
   "outputs": [],
   "source": [
    "# FranchiseCodeを非フランチャイズ（0または1）とフランチャイズ（それ以外）に分類する新しい列を作成\n",
    "data['Franchise'] = ['Franchise' if code > 1 else 'Non-Franchise' for code in data['FranchiseCode']]\n",
    "\n",
    "data['Franchise'] = data['Franchise'].astype('category')\n",
    "\n",
    "# Generate combination features\n",
    "data['Jobs_Created_per_Employee'] = data['CreateJob'] / data['NoEmp']\n",
    "data['Jobs_Retained_per_Employee'] = data['RetainedJob'] / data['NoEmp']\n",
    "data['Loan_Amount_per_Employee'] = data['DisbursementGross'] / data['NoEmp']\n",
    "\n",
    "# Handle possible division by zero\n",
    "data.replace([np.inf, -np.inf], np.nan, inplace=True)\n",
    "\n",
    "data['City_Count'] = data.groupby('City')['City'].transform('count')\n",
    "data['State_Count'] = data.groupby('State')['State'].transform('count')\n",
    "data['BankState_Count'] = data.groupby('BankState')['BankState'].transform('count')\n",
    "data['Sector_Count'] = data.groupby('Sector')['Sector'].transform('count')\n",
    "\n",
    "# 各行の欠損値の数を計算\n",
    "data['missing_values_count'] = data.isna().sum(axis=1)"
   ]
  },
  {
   "cell_type": "code",
   "execution_count": 55,
   "metadata": {},
   "outputs": [],
   "source": [
    "for col in ['RevLineCr','LowDoc','BankState','DisbursementYear','DisbursementMonth','DisbursementDay','LoanProcessingPeriod','Jobs_Created_per_Employee','Jobs_Retained_per_Employee','Loan_Amount_per_Employee','BankState_Count']:\n",
    "    mode = data[col].mode().iloc[0]\n",
    "    data[col] = data[col].fillna(mode)"
   ]
  },
  {
   "cell_type": "code",
   "execution_count": 56,
   "metadata": {},
   "outputs": [],
   "source": [
    "category_features = ['State', 'BankState', 'Sector', 'NewExist', 'UrbanRural', 'RevLineCr', 'LowDoc', 'Franchise', 'IsSameState']\n",
    "\n",
    "# LabelEncoderのインスタンスを作成\n",
    "label_encoders = {}\n",
    "\n",
    "for col in category_features:\n",
    "    # 各カテゴリー特徴量に対してLabelEncoderを適用\n",
    "    le = LabelEncoder()\n",
    "    data[col] = le.fit_transform(data[col])\n",
    "    label_encoders[col] = le  # 必要に応じて、変換したラベルエンコーダーを保存"
   ]
  },
  {
   "cell_type": "code",
   "execution_count": 57,
   "metadata": {},
   "outputs": [],
   "source": [
    "train = data[data[\"train\"]==True].drop(columns=\"train\")\n",
    "test = data[data['train'] == False]\n",
    "test = test.drop(['train','MIS_Status'],axis=1)\n"
   ]
  },
  {
   "cell_type": "code",
   "execution_count": 58,
   "metadata": {},
   "outputs": [],
   "source": [
    "train['MIS_Status'] = train['MIS_Status'].astype('int')"
   ]
  },
  {
   "cell_type": "code",
   "execution_count": null,
   "metadata": {},
   "outputs": [],
   "source": []
  },
  {
   "cell_type": "code",
   "execution_count": 59,
   "metadata": {},
   "outputs": [],
   "source": [
    "train = train.drop('City',axis=1)\n",
    "test = test.drop('City',axis=1)"
   ]
  },
  {
   "cell_type": "code",
   "execution_count": 60,
   "metadata": {},
   "outputs": [],
   "source": [
    "X_train = train.drop('MIS_Status', axis=1)\n",
    "y_train = train['MIS_Status']\n",
    "\n",
    "# Further splitting the training data into training and validation sets\n",
    "X_train, X_val, y_train, y_val = train_test_split(X_train, y_train, test_size=0.2, random_state=42)"
   ]
  },
  {
   "cell_type": "code",
   "execution_count": 61,
   "metadata": {},
   "outputs": [],
   "source": [
    "from sklearn.ensemble import RandomForestClassifier\n",
    "from sklearn.model_selection import KFold\n",
    "# パラメータ設定\n",
    "n_splits = 5\n",
    "\n",
    "# K-Foldクロスバリデーションの設定\n",
    "kf = KFold(n_splits=n_splits, shuffle=True, random_state=42)\n",
    "\n",
    "# OOF予測用の配列を用意（X_trainのサイズで初期化）\n",
    "oof_predictions = np.zeros(X_train.shape[0])\n",
    "oof_predictions_val = np.zeros(X_val.shape[0])  # X_val用のOOF予測\n",
    "\n",
    "# 各フォールドでの訓練と予測\n",
    "for train_index, val_index in kf.split(X_train):\n",
    "    # 分割\n",
    "    X_train_fold, X_val_fold = X_train.iloc[train_index], X_train.iloc[val_index]\n",
    "    y_train_fold, y_val_fold = y_train.iloc[train_index], y_train.iloc[val_index]\n",
    "\n",
    "    # RandomForestモデルの訓練\n",
    "    rf_model = RandomForestClassifier()\n",
    "    rf_model.fit(X_train_fold, y_train_fold)\n",
    "\n",
    "    # 検証データでの予測\n",
    "    oof_predictions[val_index] = rf_model.predict_proba(X_val_fold)[:, 1]\n",
    "    # X_valに対応する予測を保存\n",
    "    oof_predictions_val[X_val.index.isin(val_index)] = rf_model.predict_proba(X_val[X_val.index.isin(val_index)])[:, 1]\n",
    "\n",
    "# CatBoostモデルの訓練\n",
    "cat_model = cb.CatBoostClassifier(verbose=0)\n",
    "cat_model.fit(np.column_stack((X_train, oof_predictions)), y_train)\n",
    "\n",
    "# 最終的な予測\n",
    "final_predictions = cat_model.predict_proba(np.column_stack((X_val, oof_predictions_val)))[:, 1]\n"
   ]
  },
  {
   "cell_type": "code",
   "execution_count": 63,
   "metadata": {},
   "outputs": [],
   "source": [
    "# テストデータに対するRandomForestの予測確率を計算\n",
    "test_predictions_rf = rf_model.predict_proba(test)[:, 1]\n",
    "\n",
    "# テストデータに新しい特徴として予測確率を追加\n",
    "X_test_with_predictions = np.column_stack((test, test_predictions_rf))\n",
    "\n",
    "# CatBoostモデルを使って最終的な予測を行う\n",
    "final_test_predictions = cat_model.predict(X_test_with_predictions)"
   ]
  },
  {
   "cell_type": "code",
   "execution_count": 64,
   "metadata": {},
   "outputs": [
    {
     "data": {
      "text/plain": [
       "array([0, 1, 0, ..., 0, 1, 0], dtype=int64)"
      ]
     },
     "execution_count": 64,
     "metadata": {},
     "output_type": "execute_result"
    }
   ],
   "source": [
    "final_test_predictions"
   ]
  },
  {
   "cell_type": "code",
   "execution_count": null,
   "metadata": {},
   "outputs": [],
   "source": []
  },
  {
   "cell_type": "code",
   "execution_count": 65,
   "metadata": {},
   "outputs": [
    {
     "name": "stdout",
     "output_type": "stream",
     "text": [
      "0.7280721533258173\n",
      "Total cases: 8462\n",
      "True positives: 7243 ( 85.59 %)\n",
      "False positives: 690 ( 8.15 %)\n",
      "True negatives: 197 ( 2.33 %)\n",
      "False negatives: 332 ( 3.92 %)\n"
     ]
    }
   ],
   "source": [
    "print(roc_auc_score(y_val, final_predictions))\n",
    "total_cases = len(y_val)  # テストデータの総数\n",
    "TP = (y_val == 1) & (final_predictions >= 0.5)  # True positives\n",
    "FP = (y_val == 0) & (final_predictions >= 0.5)  # False positives\n",
    "TN = (y_val == 0) & (final_predictions < 0.5)  # True negatives\n",
    "FN = (y_val == 1) & (final_predictions < 0.5)  # False negatives\n",
    "\n",
    "TP_count = sum(TP)\n",
    "FP_count = sum(FP)\n",
    "TN_count = sum(TN)\n",
    "FN_count = sum(FN)\n",
    "\n",
    "accuracy_TP = TP_count / total_cases * 100\n",
    "misclassification_rate_FP = FP_count / total_cases * 100\n",
    "accuracy_TN = TN_count / total_cases * 100\n",
    "misclassification_rate_FN = FN_count / total_cases * 100\n",
    "\n",
    "print(\"Total cases:\", total_cases)\n",
    "print(\"True positives:\", TP_count, \"(\", \"{:.2f}\".format(accuracy_TP), \"%)\")\n",
    "print(\"False positives:\", FP_count, \"(\", \"{:.2f}\".format(misclassification_rate_FP), \"%)\")\n",
    "print(\"True negatives:\", TN_count, \"(\", \"{:.2f}\".format(accuracy_TN), \"%)\")\n",
    "print(\"False negatives:\", FN_count, \"(\", \"{:.2f}\".format(misclassification_rate_FN), \"%)\")"
   ]
  },
  {
   "cell_type": "code",
   "execution_count": 67,
   "metadata": {},
   "outputs": [
    {
     "name": "stdout",
     "output_type": "stream",
     "text": [
      "accuracy_score, precision_score, recall_score, f1_score, roc_auc_score\n",
      "0.879, 0.913, 0.956, 0.934, 0.728\n"
     ]
    }
   ],
   "source": [
    "\n",
    "print('accuracy_score, precision_score, recall_score, f1_score, roc_auc_score')\n",
    "y_pred_binary = np.where(final_predictions > 0.5, 1, 0)  # 0.5が閾値\n",
    "\n",
    "# スコア関数の修正\n",
    "score_funcs = [\n",
    "    accuracy_score, \n",
    "    lambda y_true, final_predictions: precision_score(y_true, final_predictions, average='binary'), \n",
    "    lambda y_true, final_predictions: recall_score(y_true, final_predictions, average='binary'),\n",
    "    lambda y_true, final_predictions: f1_score(y_true, final_predictions, average='binary'),\n",
    "    roc_auc_score  # この関数は確率をそのまま使用\n",
    "]\n",
    "\n",
    "# スコアの計算（roc_auc_score以外はy_pred_binaryを使用）\n",
    "scores = [\n",
    "    round(f(y_val, y_pred_binary if f != roc_auc_score else final_predictions), 3)\n",
    "    for f in score_funcs\n",
    "]\n",
    "\n",
    "print(', '.join(map(str, scores)))"
   ]
  },
  {
   "cell_type": "code",
   "execution_count": 69,
   "metadata": {},
   "outputs": [],
   "source": [
    "submit = pd.read_csv('../data/sample_submission.csv', header=None)\n",
    "\n",
    "submit.iloc[:, 1] = final_test_predictions\n",
    "filename = 'RF_CB_Stacking_base'\n",
    "\n",
    "submit.to_csv('outputs/' + filename + '.csv', index=False,header=None)"
   ]
  },
  {
   "cell_type": "code",
   "execution_count": 75,
   "metadata": {},
   "outputs": [
    {
     "name": "stdout",
     "output_type": "stream",
     "text": [
      " 1) Term                           0.055338\n",
      " 2) LoanProcessingPeriod           0.051552\n",
      " 3) City_Count                     0.048425\n",
      " 4) Loan_Amount_per_Employee       0.045573\n",
      " 5) SBA_Appv                       0.042168\n",
      " 6) ApprovalDay                    0.039548\n",
      " 7) DisbursementGross              0.038063\n",
      " 8) NoEmp                          0.037262\n",
      " 9) DisbursementYear               0.036560\n",
      "10) GrAppv                         0.035636\n",
      "11) ApprovalMonth                  0.031769\n",
      "12) DisbursementMonth              0.031181\n",
      "13) State                          0.030600\n",
      "14) Sector_Count                   0.030096\n",
      "15) State_Count                    0.029784\n",
      "16) BankState_Count                0.029338\n",
      "17) BankState                      0.028757\n",
      "18) UrbanRural                     0.028656\n",
      "19) Sector                         0.027197\n",
      "20) YearsSinceApproval             0.026642\n",
      "21) ApprovalYear                   0.026633\n",
      "22) ApprovalFY                     0.026398\n",
      "23) Jobs_Retained_per_Employee     0.022362\n",
      "24) RetainedJob                    0.022304\n",
      "25) SBAGuaranteeRatio              0.021727\n",
      "26) CreateJob                      0.021564\n",
      "27) DisbursementDay                0.021257\n",
      "28) LowDoc                         0.020912\n",
      "29) RevLineCr                      0.019505\n",
      "30) Jobs_Created_per_Employee      0.016979\n",
      "31) missing_values_count           0.013882\n",
      "32) FranchiseCode                  0.013447\n",
      "33) NewExist                       0.011515\n",
      "34) LoanvsApprovedAmountDifference 0.007952\n",
      "35) IsSameState                    0.006446\n",
      "36) Franchise                      0.002971\n"
     ]
    },
    {
     "ename": "IndexError",
     "evalue": "index 36 is out of bounds for axis 0 with size 36",
     "output_type": "error",
     "traceback": [
      "\u001b[1;31m---------------------------------------------------------------------------\u001b[0m",
      "\u001b[1;31mIndexError\u001b[0m                                Traceback (most recent call last)",
      "Cell \u001b[1;32mIn[75], line 21\u001b[0m\n\u001b[0;32m     19\u001b[0m \u001b[38;5;66;03m# 特徴量の重要度を降順に表示\u001b[39;00m\n\u001b[0;32m     20\u001b[0m \u001b[38;5;28;01mfor\u001b[39;00m f \u001b[38;5;129;01min\u001b[39;00m \u001b[38;5;28mrange\u001b[39m(\u001b[38;5;28mlen\u001b[39m(feature_names)):\n\u001b[1;32m---> 21\u001b[0m     \u001b[38;5;28mprint\u001b[39m(\u001b[38;5;124m\"\u001b[39m\u001b[38;5;132;01m%2d\u001b[39;00m\u001b[38;5;124m) \u001b[39m\u001b[38;5;132;01m%-*s\u001b[39;00m\u001b[38;5;124m \u001b[39m\u001b[38;5;132;01m%f\u001b[39;00m\u001b[38;5;124m\"\u001b[39m \u001b[38;5;241m%\u001b[39m (f \u001b[38;5;241m+\u001b[39m \u001b[38;5;241m1\u001b[39m, \u001b[38;5;241m30\u001b[39m, feature_names[\u001b[43mindices\u001b[49m\u001b[43m[\u001b[49m\u001b[43mf\u001b[49m\u001b[43m]\u001b[49m], importance[indices[f]]))\n",
      "\u001b[1;31mIndexError\u001b[0m: index 36 is out of bounds for axis 0 with size 36"
     ]
    }
   ],
   "source": [
    "# 元の特徴量の名前を取得\n",
    "feature_names = list(X_train.columns)\n",
    "\n",
    "# oof_predictionsを特徴量として追加\n",
    "X_train_with_oof = np.column_stack((X_train, oof_predictions))\n",
    "\n",
    "# 新しい特徴量名を追加\n",
    "feature_names.append('oof_prediction')\n",
    "\n",
    "# RandomForestモデルの訓練（すでに訓練されている場合はスキップ）\n",
    "# rf_model.fit(X_train_with_oof, y_train)\n",
    "\n",
    "# 特徴量の重要度を取得\n",
    "importance = rf_model.feature_importances_\n",
    "\n",
    "# 重要度でソート\n",
    "indices = np.argsort(importance)[::-1]\n",
    "\n",
    "# 特徴量の重要度を降順に表示\n",
    "for f in range(len(feature_names)):\n",
    "    print(\"%2d) %-*s %f\" % (f + 1, 30, feature_names[indices[f]], importance[indices[f]]))"
   ]
  },
  {
   "cell_type": "code",
   "execution_count": 119,
   "metadata": {},
   "outputs": [
    {
     "data": {
      "image/png": "[encoded data removed]",
      "text/plain": [
       "<Figure size 640x480 with 1 Axes>"
      ]
     },
     "metadata": {},
     "output_type": "display_data"
    }
   ],
   "source": [
    "from sklearn.metrics import roc_curve, auc\n",
    "import matplotlib.pyplot as plt\n",
    "\n",
    "# FPR, TPR, およびしきい値を計算する\n",
    "fpr, tpr, thresholds = roc_curve(y_val, y_pred)\n",
    "\n",
    "# AUC（Area Under Curve）を計算する\n",
    "roc_auc = auc(fpr, tpr)\n",
    "\n",
    "# ROC曲線をプロットする\n",
    "plt.figure()\n",
    "plt.plot(fpr, tpr, color='darkorange', lw=2, label='ROC curve (area = %0.2f)' % roc_auc)\n",
    "plt.plot([0, 1], [0, 1], color='navy', lw=2, linestyle='--')\n",
    "plt.xlim([0.0, 1.0])\n",
    "plt.ylim([0.0, 1.05])\n",
    "plt.xlabel('False Positive Rate')\n",
    "plt.ylabel('True Positive Rate')\n",
    "plt.title('Receiver Operating Characteristic')\n",
    "plt.legend(loc=\"lower right\")\n",
    "plt.show()"
   ]
  },
  {
   "cell_type": "code",
   "execution_count": 120,
   "metadata": {},
   "outputs": [
    {
     "data": {
      "image/png": "[encoded data removed]",
      "text/plain": [
       "<Figure size 640x480 with 1 Axes>"
      ]
     },
     "metadata": {},
     "output_type": "display_data"
    }
   ],
   "source": [
    "from sklearn.metrics import precision_recall_curve, auc\n",
    "\n",
    "# 精度と再現率を計算\n",
    "precision, recall, thresholds = precision_recall_curve(y_val, y_pred)\n",
    "\n",
    "# PR AUCを計算\n",
    "pr_auc = auc(recall, precision)\n",
    "\n",
    "# PR曲線をプロット\n",
    "plt.figure()\n",
    "plt.plot(recall, precision, color='blue', lw=2, label='PR curve (area = %0.2f)' % pr_auc)\n",
    "plt.xlabel('Recall')\n",
    "plt.ylabel('Precision')\n",
    "plt.title('Precision-Recall curve')\n",
    "plt.legend(loc=\"lower left\")\n",
    "plt.show()"
   ]
  }
 ],
 "metadata": {
  "kernelspec": {
   "display_name": "Python 3",
   "language": "python",
   "name": "python3"
  },
  "language_info": {
   "codemirror_mode": {
    "name": "ipython",
    "version": 3
   },
   "file_extension": ".py",
   "mimetype": "text/x-python",
   "name": "python",
   "nbconvert_exporter": "python",
   "pygments_lexer": "ipython3",
   "version": "3.11.7"
  }
 },
 "nbformat": 4,
 "nbformat_minor": 2
}
